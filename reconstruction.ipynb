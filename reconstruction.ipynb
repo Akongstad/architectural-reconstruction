{
 "cells": [
  {
   "cell_type": "markdown",
   "metadata": {},
   "source": [
    "# Case Study: Zeeguu/API\n",
    "- Backend of a web application that supports [free reading in foreign languages](https://zeeguu.org)\n",
    "- Open source [repository on GH](https://github.com/zeeguu/API/)\n",
    "\n",
    "## Table of conentents\n",
    "1. [Basic Data Gathering](#basic-data-gathering)\n",
    "    1. [Extract dependencies](#extract-dependencies)\n",
    "    2. [Visualize](#Visualize)\n",
    "2. [Abstraction](#Abstraction)\n",
    "3. [Evolution](#Evolution)\n",
    "4. [Dynamic Analysis](#dynamic-analysis)\n",
    "\n"
   ]
  },
  {
   "cell_type": "markdown",
   "metadata": {},
   "source": [
    "## Basic Data Gathering\n",
    "\n",
    "- extracting basic dependencies between python modules\n",
    "- every .py file is called a module in Python\n",
    "- direct relationship between file name and module name\n",
    "  - file: `./zeeguu_core/model/user.py` <==>\n",
    "  - module: `zeeguu_core.model.User`\n"
   ]
  },
  {
   "cell_type": "code",
   "metadata": {
    "ExecuteTime": {
     "end_time": "2024-05-06T09:38:26.939082Z",
     "start_time": "2024-05-06T09:38:24.748189Z"
    }
   },
   "source": [
    "# Credit: https://colab.research.google.com/drive/1oe_TV7936Zmmzbbgq8rzqFpxYPX7SQHP#scrollTo=Njkjj4fzUV2E\n",
    "# Installing Required Dependencies\n",
    "import sys\n",
    "sys.version\n",
    "!{sys.executable} -m pip install gitpython\n",
    "!{sys.executable} -m pip install pyvis"
   ],
   "outputs": [
    {
     "name": "stdout",
     "output_type": "stream",
     "text": [
      "Requirement already satisfied: gitpython in /opt/homebrew/Caskroom/miniconda/base/lib/python3.12/site-packages (3.1.43)\r\n",
      "Requirement already satisfied: gitdb<5,>=4.0.1 in /opt/homebrew/Caskroom/miniconda/base/lib/python3.12/site-packages (from gitpython) (4.0.11)\r\n",
      "Requirement already satisfied: smmap<6,>=3.0.1 in /opt/homebrew/Caskroom/miniconda/base/lib/python3.12/site-packages (from gitdb<5,>=4.0.1->gitpython) (5.0.1)\r\n",
      "Requirement already satisfied: pyvis in /opt/homebrew/Caskroom/miniconda/base/lib/python3.12/site-packages (0.3.2)\r\n",
      "Requirement already satisfied: ipython>=5.3.0 in /opt/homebrew/Caskroom/miniconda/base/lib/python3.12/site-packages (from pyvis) (8.22.2)\r\n",
      "Requirement already satisfied: jinja2>=2.9.6 in /opt/homebrew/Caskroom/miniconda/base/lib/python3.12/site-packages (from pyvis) (3.1.3)\r\n",
      "Requirement already satisfied: jsonpickle>=1.4.1 in /opt/homebrew/Caskroom/miniconda/base/lib/python3.12/site-packages (from pyvis) (3.0.4)\r\n",
      "Requirement already satisfied: networkx>=1.11 in /opt/homebrew/Caskroom/miniconda/base/lib/python3.12/site-packages (from pyvis) (3.3)\r\n",
      "Requirement already satisfied: decorator in /opt/homebrew/Caskroom/miniconda/base/lib/python3.12/site-packages (from ipython>=5.3.0->pyvis) (5.1.1)\r\n",
      "Requirement already satisfied: jedi>=0.16 in /opt/homebrew/Caskroom/miniconda/base/lib/python3.12/site-packages (from ipython>=5.3.0->pyvis) (0.19.1)\r\n",
      "Requirement already satisfied: matplotlib-inline in /opt/homebrew/Caskroom/miniconda/base/lib/python3.12/site-packages (from ipython>=5.3.0->pyvis) (0.1.6)\r\n",
      "Requirement already satisfied: prompt-toolkit<3.1.0,>=3.0.41 in /opt/homebrew/Caskroom/miniconda/base/lib/python3.12/site-packages (from ipython>=5.3.0->pyvis) (3.0.42)\r\n",
      "Requirement already satisfied: pygments>=2.4.0 in /opt/homebrew/Caskroom/miniconda/base/lib/python3.12/site-packages (from ipython>=5.3.0->pyvis) (2.17.2)\r\n",
      "Requirement already satisfied: stack-data in /opt/homebrew/Caskroom/miniconda/base/lib/python3.12/site-packages (from ipython>=5.3.0->pyvis) (0.6.2)\r\n",
      "Requirement already satisfied: traitlets>=5.13.0 in /opt/homebrew/Caskroom/miniconda/base/lib/python3.12/site-packages (from ipython>=5.3.0->pyvis) (5.14.2)\r\n",
      "Requirement already satisfied: pexpect>4.3 in /opt/homebrew/Caskroom/miniconda/base/lib/python3.12/site-packages (from ipython>=5.3.0->pyvis) (4.9.0)\r\n",
      "Requirement already satisfied: MarkupSafe>=2.0 in /opt/homebrew/Caskroom/miniconda/base/lib/python3.12/site-packages (from jinja2>=2.9.6->pyvis) (2.1.5)\r\n",
      "Requirement already satisfied: parso<0.9.0,>=0.8.3 in /opt/homebrew/Caskroom/miniconda/base/lib/python3.12/site-packages (from jedi>=0.16->ipython>=5.3.0->pyvis) (0.8.3)\r\n",
      "Requirement already satisfied: ptyprocess>=0.5 in /opt/homebrew/Caskroom/miniconda/base/lib/python3.12/site-packages (from pexpect>4.3->ipython>=5.3.0->pyvis) (0.7.0)\r\n",
      "Requirement already satisfied: wcwidth in /opt/homebrew/Caskroom/miniconda/base/lib/python3.12/site-packages (from prompt-toolkit<3.1.0,>=3.0.41->ipython>=5.3.0->pyvis) (0.2.13)\r\n",
      "Requirement already satisfied: executing>=1.2.0 in /opt/homebrew/Caskroom/miniconda/base/lib/python3.12/site-packages (from stack-data->ipython>=5.3.0->pyvis) (2.0.1)\r\n",
      "Requirement already satisfied: asttokens>=2.1.0 in /opt/homebrew/Caskroom/miniconda/base/lib/python3.12/site-packages (from stack-data->ipython>=5.3.0->pyvis) (2.4.1)\r\n",
      "Requirement already satisfied: pure-eval in /opt/homebrew/Caskroom/miniconda/base/lib/python3.12/site-packages (from stack-data->ipython>=5.3.0->pyvis) (0.2.2)\r\n",
      "Requirement already satisfied: six>=1.12.0 in /opt/homebrew/Caskroom/miniconda/base/lib/python3.12/site-packages (from asttokens>=2.1.0->stack-data->ipython>=5.3.0->pyvis) (1.16.0)\r\n"
     ]
    }
   ],
   "execution_count": 2
  },
  {
   "cell_type": "code",
   "metadata": {
    "ExecuteTime": {
     "end_time": "2024-05-06T09:54:00.458411Z",
     "start_time": "2024-05-06T09:54:00.451794Z"
    }
   },
   "source": [
    "# Adopted from: https://colab.research.google.com/drive/1oe_TV7936Zmmzbbgq8rzqFpxYPX7SQHP#scrollTo=Njkjj4fzUV2E\n",
    "import os\n",
    "from git import Repo\n",
    "\n",
    "# Current Working Directory\n",
    "cwd = os.getcwd()\n",
    "print(cwd)\n",
    "\n",
    "# Code location\n",
    "CODE_ROOT_FOLDER=f\"/Users/andreaskongstad/Developer/PycharmProjects/architectural-reconstruction/data/zeeguu-api/\"\n",
    "\n",
    "# Clone the repository\n",
    "if not os.path.exists(CODE_ROOT_FOLDER):\n",
    "  Repo.clone_from(\"https://github.com/zeeguu/api\", CODE_ROOT_FOLDER)\n",
    "\n"
   ],
   "outputs": [
    {
     "name": "stdout",
     "output_type": "stream",
     "text": [
      "/Users/andreaskongstad/Developer/PycharmProjects/architectural-reconstruction\n"
     ]
    }
   ],
   "execution_count": 10
  },
  {
   "cell_type": "code",
   "metadata": {
    "ExecuteTime": {
     "end_time": "2024-05-06T09:38:29.956614Z",
     "start_time": "2024-05-06T09:38:29.634469Z"
    }
   },
   "source": [
    "# Count absolute lines of code and number of files \n",
    "!cd {CODE_ROOT_FOLDER} && git ls-files | grep '\\.py$' | xargs wc -l | grep total\n",
    "!cd {CODE_ROOT_FOLDER} && git ls-files | grep \"\\.py$\" | wc -l"
   ],
   "outputs": [
    {
     "name": "stdout",
     "output_type": "stream",
     "text": [
      "   21206 total\r\n",
      "     278\r\n"
     ]
    }
   ],
   "execution_count": 4
  },
  {
   "cell_type": "code",
   "metadata": {
    "ExecuteTime": {
     "end_time": "2024-05-06T09:38:38.436170Z",
     "start_time": "2024-05-06T09:38:38.431583Z"
    }
   },
   "source": [
    "# helpers\n",
    "def file_path(file_name):\n",
    "    return f\"{CODE_ROOT_FOLDER}{file_name}\"\n",
    "\n",
    "\n",
    "def module_name_from_file_path(full_path):\n",
    "    \"\"\"\n",
    "    ../core/model/user.py -> zeeguu.core.model.user\n",
    "    \"\"\"\n",
    "    file_name = full_path[len(CODE_ROOT_FOLDER):]\n",
    "    file_name = file_name.replace(\"/__init__.py\",\"\")\n",
    "    file_name = file_name.replace(\"/\",\".\")\n",
    "    file_name = file_name.replace(\".py\",\"\")\n",
    "    return file_name\n",
    "\n",
    "File_Name = \"zeeguu/core/model/user.py\"\n",
    "print(file_path(File_Name))\n",
    "assert file_path(File_Name) == \"/Users/andreaskongstad/Developer/PycharmProjects/architectural-reconstruction/data/zeeguu-api/zeeguu/core/model/user.py\"\n",
    "assert module_name_from_file_path(file_path(File_Name)) == \"zeeguu.core.model.user\"\n",
    "\n",
    "\n",
    "def module_name_from_rel_path(full_path):\n",
    "\n",
    "    # e.g. ../core/model/user.py -> zeeguu.core.model.user\n",
    "\n",
    "    file_name = full_path.replace(\"/__init__.py\",\"\")\n",
    "    file_name = file_name.replace(\"/\",\".\")\n",
    "    file_name = file_name.replace(\".py\",\"\")\n",
    "    return file_name\n",
    "\n",
    "assert (\"tools.migrations.teacher_dashboard_migration_1.upgrade\" == module_name_from_rel_path(\"tools/migrations/teacher_dashboard_migration_1/upgrade.py\"))\n",
    "assert (\"zeeguu.api\") == module_name_from_rel_path(\"zeeguu/api/__init__.py\")\n",
    "\n",
    "\n",
    "  "
   ],
   "outputs": [
    {
     "name": "stdout",
     "output_type": "stream",
     "text": [
      "/Users/andreaskongstad/Developer/PycharmProjects/architectural-reconstruction/data/zeeguu-api/zeeguu/core/model/user.py\n"
     ]
    }
   ],
   "execution_count": 5
  },
  {
   "cell_type": "markdown",
   "metadata": {},
   "source": [
    "### AST based parsing"
   ]
  },
  {
   "cell_type": "code",
   "metadata": {
    "ExecuteTime": {
     "end_time": "2024-05-06T09:38:41.241625Z",
     "start_time": "2024-05-06T09:38:41.228021Z"
    }
   },
   "source": [
    "import ast\n",
    "from collections import defaultdict\n",
    "\n",
    "\n",
    "def parse_imports(file):\n",
    "    with open(file) as f:\n",
    "        tree = ast.parse(f.read(), filename=file)\n",
    "    \n",
    "    imports = set() # all imported modules\n",
    "    import_total_function_calls = defaultdict(int) # total calls to functions in imported modules\n",
    "    import_distinct_function_calls = set() # unique calls to functions in imported modules\n",
    "    function_to_module = {} # alias to module mapping\n",
    "    \n",
    "    try:\n",
    "        for node in ast.walk(tree):\n",
    "            match node:\n",
    "                case ast.Import(names=names ):\n",
    "                    for alias in names:\n",
    "                        imports.add(alias.name)\n",
    "                \n",
    "                case ast.ImportFrom(module=module, names=names):\n",
    "                    # What if module == .?\n",
    "                    if module == None:\n",
    "                        #imports.add(\".\") Internal imports. Disregard for now\n",
    "                        continue\n",
    "                    \n",
    "                    imports.add(module)\n",
    "                     \n",
    "                    for alias in names:\n",
    "                        function_to_module[alias.name] = module + \".\" + alias.name\n",
    "            \n",
    "                        \n",
    "                case ast.Call(func=ast.Attribute(value=ast.Name(id=id), attr=attr), args=args, keywords=keywords):\n",
    "                    if id in function_to_module:\n",
    "                        import_total_function_calls[f\"{function_to_module[id]}.{attr}\"] += 1\n",
    "                        import_distinct_function_calls.add(f\"{function_to_module[id]}.{attr}\")\n",
    "                        \n",
    "    except Exception as e:\n",
    "        print(f\"Error in {file}: {e}\")\n",
    "        print(f\"Module: {module}\")\n",
    "        print(f\"Alias: {alias.name}\")\n",
    "                    \n",
    "\n",
    "    return imports, import_total_function_calls, import_distinct_function_calls\n",
    "\n",
    "\n",
    "print(parse_imports(file_path('zeeguu/core/model/unique_code.py')))\n",
    "assert parse_imports(file_path('zeeguu/core/model/unique_code.py'))[0] == {'datetime', 'zeeguu.core', 'zeeguu.core.model', 'sqlalchemy', 'random'}\n",
    "print(parse_imports(file_path('zeeguu/api/endpoints/user_articles.py')))\n"
   ],
   "outputs": [
    {
     "name": "stdout",
     "output_type": "stream",
     "text": [
      "({'sqlalchemy', 'datetime', 'zeeguu.core', 'random', 'zeeguu.core.model'}, defaultdict(<class 'int'>, {'zeeguu.core.model.db.Column': 4, 'zeeguu.core.model.db.String': 2, 'datetime.datetime.now': 1, 'sqlalchemy.func.lower': 1}), {'zeeguu.core.model.db.String', 'datetime.datetime.now', 'sqlalchemy.func.lower', 'zeeguu.core.model.db.Column'})\n",
      "({'zeeguu.api.utils.json_result', 'flask', 'zeeguu.api.utils.route_wrappers', 'zeeguu.core.model', 'zeeguu.core.content_recommender'}, defaultdict(<class 'int'>, {'zeeguu.core.model.PersonalCopy.all_for': 1, 'zeeguu.core.model.UserArticle.user_article_info': 3, 'zeeguu.core.model.UserArticle.all_starred_and_liked_articles_of_user_info': 1}), {'zeeguu.core.model.UserArticle.all_starred_and_liked_articles_of_user_info', 'zeeguu.core.model.UserArticle.user_article_info', 'zeeguu.core.model.PersonalCopy.all_for'})\n"
     ]
    }
   ],
   "execution_count": 6
  },
  {
   "cell_type": "markdown",
   "metadata": {},
   "source": [
    "### Extract dependencies and visalize\n",
    "To do that we iterate over all the python files with the help of the Path.rglob function from pathlib\n",
    "And we create a network with the help of the networkx package.Visualize"
   ]
  },
  {
   "cell_type": "code",
   "metadata": {
    "ExecuteTime": {
     "end_time": "2024-05-06T11:47:29.221509Z",
     "start_time": "2024-05-06T11:47:29.213777Z"
    }
   },
   "source": [
    "# TODO: Add dependency data on hover\n",
    "# TODO: Add coloration depending on node level\n",
    "import pyvis.network as Network\n",
    "import matplotlib.pyplot as plt\n",
    "from pathlib import Path\n",
    "import networkx as nx\n",
    "\n",
    "def dependencies_digraph(code_root_folder):\n",
    "    files = Path(code_root_folder).rglob(\"*.py\")\n",
    "\n",
    "    G = nx.DiGraph()\n",
    "\n",
    "    for file in files:\n",
    "        file_path = str(file)\n",
    "\n",
    "        source_module = module_name_from_file_path(file_path)\n",
    "\n",
    "        if source_module not in G.nodes:\n",
    "            G.add_node(source_module)\n",
    "\n",
    "        imports, _, _ = parse_imports(file_path)\n",
    "        for target_module in imports:\n",
    "\n",
    "            G.add_edge(source_module, target_module)\n",
    "            # print(module_name + \"=>\" + each + \".\")\n",
    "\n",
    "    return G\n",
    "\n",
    "# a function to draw a graph\n",
    "def draw_graph_plt(G, size, **args):\n",
    "    plt.figure(figsize=size)\n",
    "    nx.draw(G, **args)\n",
    "    plt.show()\n",
    "    \n",
    "def draw_graph_pyvis(G, size, output_file, **args):\n",
    "    h, w = size\n",
    "    g = Network.Network(height=h, width=w,notebook=True, cdn_resources='in_line', **args) \n",
    "    g.from_nx(G)\n",
    "    g.barnes_hut()\n",
    "    #g.toggle_physics(True)\n",
    "    g.show(output_file)\n",
    "\n",
    "def draw_graph_pyvis_example():\n",
    "    G = nx.complete_graph(5)\n",
    "    draw_graph_pyvis(G, (500, 500), \"example.html\", bgcolor=\"#222222\", font_color=\"white\")   \n",
    "    \n",
    "    \n"
   ],
   "outputs": [],
   "execution_count": 17
  },
  {
   "cell_type": "code",
   "metadata": {
    "ExecuteTime": {
     "end_time": "2024-05-06T09:58:43.305326Z",
     "start_time": "2024-05-06T09:58:42.730822Z"
    }
   },
   "source": [
    "# Looking at the directed graph\n",
    "DG = dependencies_digraph(CODE_ROOT_FOLDER)\n",
    "draw_graph_pyvis(DG, (1000,1000), \"draw_all.html\", bgcolor=\"#222222\", font_color=\"white\")\n",
    "# draw_graph_plt(DG, (10,10), with_labels=True, node_size=1000, font_size=10)"
   ],
   "outputs": [
    {
     "name": "stderr",
     "output_type": "stream",
     "text": [
      "/Users/andreaskongstad/Developer/PycharmProjects/architectural-reconstruction/data/zeeguu-api/zeeguu/core/model/starred_article.py:71: SyntaxWarning: invalid escape sequence '\\ '\n",
      "  \"\"\"\n",
      "/Users/andreaskongstad/Developer/PycharmProjects/architectural-reconstruction/data/zeeguu-api/zeeguu/core/model/article.py:28: SyntaxWarning: invalid escape sequence '\\s'\n",
      "  MULTIPLE_NEWLINES = re.compile(\"\\n\\s*\\n\")\n",
      "/Users/andreaskongstad/Developer/PycharmProjects/architectural-reconstruction/data/zeeguu-api/zeeguu/core/language/strategies/word_rank_difficulty_estimator.py:63: SyntaxWarning: invalid escape sequence '\\d'\n",
      "  words = [w for w in words if re.search(\"\\d\", w) == None]\n",
      "/Users/andreaskongstad/Developer/PycharmProjects/architectural-reconstruction/data/zeeguu-api/data/zeeguu-api/zeeguu/core/model/starred_article.py:71: SyntaxWarning: invalid escape sequence '\\ '\n",
      "  \"\"\"\n",
      "/Users/andreaskongstad/Developer/PycharmProjects/architectural-reconstruction/data/zeeguu-api/data/zeeguu-api/zeeguu/core/model/article.py:28: SyntaxWarning: invalid escape sequence '\\s'\n",
      "  MULTIPLE_NEWLINES = re.compile(\"\\n\\s*\\n\")\n",
      "/Users/andreaskongstad/Developer/PycharmProjects/architectural-reconstruction/data/zeeguu-api/data/zeeguu-api/zeeguu/core/language/strategies/word_rank_difficulty_estimator.py:63: SyntaxWarning: invalid escape sequence '\\d'\n",
      "  words = [w for w in words if re.search(\"\\d\", w) == None]\n"
     ]
    },
    {
     "name": "stdout",
     "output_type": "stream",
     "text": [
      "draw_all.html\n"
     ]
    }
   ],
   "execution_count": 16
  },
  {
   "cell_type": "markdown",
   "metadata": {},
   "source": []
  },
  {
   "cell_type": "markdown",
   "metadata": {},
   "source": [
    "## Abstraction\n",
    "What do we have now:\n",
    "- System: zeeguu/api\n",
    "- Source View: Modules & Dependencies\n",
    "- Entities: .py files in the project\n",
    "- Relationships: import statements between .py files\n",
    "\n",
    "Plan: Abstraction methods\n",
    "1. Folder hierarchy\n",
    "2. Aggregate dependencies using metrics. (Sum of calls)\n",
    "    - Total count of explicit low-level dependencies\n",
    "    - Number of distinct explicit low-level dependencies\n",
    "    - Network analysis to detect rank packages: Note (It should not be that hard, the networkx package supports various methods of network analysis, e.g. centrality, HITS, pagerank.)\n",
    "3. Create different level graphs and pass them to OpenAI vision model"
   ]
  },
  {
   "cell_type": "markdown",
   "metadata": {},
   "source": [
    "### Filter relevant modules"
   ]
  },
  {
   "cell_type": "code",
   "execution_count": 241,
   "metadata": {},
   "outputs": [
    {
     "name": "stderr",
     "output_type": "stream",
     "text": [
      "/Users/andreaskongstad/Developer/PycharmProjects/architectural-reconstruction/data/zeeguu-api/zeeguu/core/model/starred_article.py:71: SyntaxWarning: invalid escape sequence '\\ '\n",
      "  \"\"\"\n",
      "/Users/andreaskongstad/Developer/PycharmProjects/architectural-reconstruction/data/zeeguu-api/zeeguu/core/model/article.py:28: SyntaxWarning: invalid escape sequence '\\s'\n",
      "  MULTIPLE_NEWLINES = re.compile(\"\\n\\s*\\n\")\n",
      "/Users/andreaskongstad/Developer/PycharmProjects/architectural-reconstruction/data/zeeguu-api/zeeguu/core/language/strategies/word_rank_difficulty_estimator.py:63: SyntaxWarning: invalid escape sequence '\\d'\n",
      "  words = [w for w in words if re.search(\"\\d\", w) == None]\n"
     ]
    }
   ],
   "source": [
    "\n",
    "def relevant_module(module_name):\n",
    "    \"\"\"\n",
    "    Define relevant modules\n",
    "    \"\"\"\n",
    "    if \"test\" in module_name:\n",
    "        return False\n",
    "    if module_name.startswith(\"zeeguu\"):\n",
    "        return True\n",
    "\n",
    "\n",
    "    return False\n",
    "\n",
    "def dependencies_digraph(code_root_folder):\n",
    "    files = Path(code_root_folder).rglob(\"*.py\")\n",
    "\n",
    "    G = nx.DiGraph()\n",
    "\n",
    "    for file in files:\n",
    "        file_path = str(file)\n",
    "\n",
    "        source_module = module_name_from_file_path(file_path)\n",
    "        if not relevant_module(source_module):\n",
    "          continue\n",
    "\n",
    "        if source_module not in G.nodes:\n",
    "            G.add_node(source_module)\n",
    "            \n",
    "            \n",
    "\n",
    "        imports, _, _ = parse_imports(file_path)\n",
    "        for target_module in imports:\n",
    "\n",
    "            if relevant_module(target_module):\n",
    "              G.add_edge(source_module, target_module)\n",
    "\n",
    "\n",
    "    return G\n",
    "\n",
    "# Looking at the directed graph\n",
    "DG = dependencies_digraph(CODE_ROOT_FOLDER)\n",
    "# draw_graph(DG, (40,40), with_labels=True)"
   ]
  },
  {
   "cell_type": "markdown",
   "metadata": {},
   "source": [
    "### Basic Abstraction Using Hierarchical Module Structure & Naming Conventions\n",
    "\n",
    "- abstracting the imports between the modules along the module hierarchy\n",
    "- also taking into account naming conventions to filter out external modules"
   ]
  },
  {
   "cell_type": "code",
   "execution_count": 191,
   "metadata": {},
   "outputs": [
    {
     "data": {
      "image/png": "[encoded data removed]",
      "text/plain": [
       "<Figure size 1000x1000 with 1 Axes>"
      ]
     },
     "metadata": {},
     "output_type": "display_data"
    }
   ],
   "source": [
    "def top_level_package(module_name, depth=1):\n",
    "    \"\"\"Extract parent of module at depth\"\"\"\n",
    "    components = module_name.split(\".\")\n",
    "    return \".\".join(components[:depth])\n",
    "\n",
    "assert (top_level_package(\"zeeguu.core.model.util\") == \"zeeguu\")\n",
    "assert (top_level_package(\"zeeguu.core.model.util\", 2) == \"zeeguu.core\")\n",
    "\n",
    "\n",
    "def abstracted_to_top_level(G, depth=1):\n",
    "    aG = nx.DiGraph()\n",
    "    for each in G.edges():\n",
    "        src = top_level_package(each[0], depth)\n",
    "        dst = top_level_package(each[1], depth)\n",
    "\n",
    "        if src != dst:\n",
    "          aG.add_edge(src, dst)\n",
    "\n",
    "    return aG\n",
    "\n",
    "ADG = abstracted_to_top_level(DG, 2)\n",
    "draw_graph(ADG, (10,10), with_labels=True)"
   ]
  },
  {
   "cell_type": "markdown",
   "metadata": {},
   "source": [
    "### Abstraction with metrics"
   ]
  },
  {
   "cell_type": "markdown",
   "metadata": {},
   "source": [
    "### Abstraction with network analysis"
   ]
  },
  {
   "cell_type": "markdown",
   "metadata": {},
   "source": [
    "## Evolution\n",
    "Plan:\n",
    "1.  Churn Find hot code -- Most changed/imporant regions\n",
    "\n",
    "2. Extract multiple complementary module views from your case study system\n",
    "3. Ensure that your layouts are readable - limit the number of nodes in a view, use a different layout in networkx, or use a different library than networkx\n",
    "4. Augment each of the previously obtained module views by mapping the above-computed churn metric on the color of a given node"
   ]
  },
  {
   "cell_type": "code",
   "execution_count": null,
   "metadata": {},
   "outputs": [
    {
     "name": "stdout",
     "output_type": "stream",
     "text": [
      "Collecting pydriller\n",
      "  Downloading PyDriller-2.6-py3-none-any.whl.metadata (1.3 kB)\n",
      "Requirement already satisfied: gitpython in /opt/homebrew/Caskroom/miniconda/base/lib/python3.12/site-packages (from pydriller) (3.1.43)\n",
      "Requirement already satisfied: pytz in /opt/homebrew/Caskroom/miniconda/base/lib/python3.12/site-packages (from pydriller) (2024.1)\n",
      "Collecting types-pytz (from pydriller)\n",
      "  Downloading types_pytz-2024.1.0.20240417-py3-none-any.whl.metadata (1.5 kB)\n",
      "Collecting lizard (from pydriller)\n",
      "  Downloading lizard-1.17.10-py2.py3-none-any.whl.metadata (15 kB)\n",
      "Requirement already satisfied: gitdb<5,>=4.0.1 in /opt/homebrew/Caskroom/miniconda/base/lib/python3.12/site-packages (from gitpython->pydriller) (4.0.11)\n",
      "Requirement already satisfied: smmap<6,>=3.0.1 in /opt/homebrew/Caskroom/miniconda/base/lib/python3.12/site-packages (from gitdb<5,>=4.0.1->gitpython->pydriller) (5.0.1)\n",
      "Downloading PyDriller-2.6-py3-none-any.whl (33 kB)\n",
      "Downloading lizard-1.17.10-py2.py3-none-any.whl (66 kB)\n",
      "\u001B[2K   \u001B[90m━━━━━━━━━━━━━━━━━━━━━━━━━━━━━━━━━━━━━━━━\u001B[0m \u001B[32m66.0/66.0 kB\u001B[0m \u001B[31m6.6 MB/s\u001B[0m eta \u001B[36m0:00:00\u001B[0m\n",
      "\u001B[?25hDownloading types_pytz-2024.1.0.20240417-py3-none-any.whl (5.2 kB)\n",
      "Installing collected packages: lizard, types-pytz, pydriller\n",
      "Successfully installed lizard-1.17.10 pydriller-2.6 types-pytz-2024.1.0.20240417\n"
     ]
    }
   ],
   "source": [
    "!{sys.executable} -m pip install pydriller"
   ]
  },
  {
   "cell_type": "code",
   "execution_count": null,
   "metadata": {},
   "outputs": [],
   "source": [
    "from pydriller import Repository\n",
    "REPO_DIR = 'https://github.com/zeeguu/api'"
   ]
  },
  {
   "cell_type": "code",
   "execution_count": null,
   "metadata": {},
   "outputs": [
    {
     "name": "stdout",
     "output_type": "stream",
     "text": [
      "/Users/andreaskongstad/Developer/PycharmProjects/architectural-reconstruction/data/zeeguu-api\n"
     ]
    }
   ],
   "source": [
    "# for PyDriller to work we need to change directory to our local clone of the repo\n",
    "%cd {CODE_ROOT_FOLDER}"
   ]
  },
  {
   "cell_type": "code",
   "execution_count": null,
   "metadata": {},
   "outputs": [],
   "source": [
    "from collections import defaultdict\n",
    "from pydriller import ModificationType\n",
    "\n",
    "all_commits = list(Repository(REPO_DIR).traverse_commits())\n",
    "\n",
    "def print_out_commit_details(commits):\n",
    "    \"\"\" Usage: print_out_commit_details(all_commits[0:1])\"\"\"\n",
    "    for commit in commits:\n",
    "        print(commit)\n",
    "        for each in commit.modified_files:\n",
    "            print(f\"{commit.author.name} {each.change_type} {each.filename}\\n -{each.old_path}\\n -{each.new_path}\")\n",
    "\n",
    "\n",
    "def commit_counts(all_commits):\n",
    "    commit_counts = defaultdict(int)\n",
    "\n",
    "    for commit in all_commits:\n",
    "        for file in commit.modified_files:\n",
    "            commit_counts[file.new_path] += 1\n",
    "\n",
    "    return commit_counts\n",
    "\n",
    "\n",
    "def commit_counts_better(all_commits):\n",
    "    commit_counts = {}\n",
    "    for commit in all_commits:\n",
    "        for modification in commit.modified_files:\n",
    "\n",
    "            new_path = modification.new_path\n",
    "            old_path = modification.old_path\n",
    "\n",
    "            try:\n",
    "                if modification.change_type == ModificationType.RENAME:\n",
    "                    commit_counts[new_path]=commit_counts.get(old_path,0)+1\n",
    "                    commit_counts.pop(old_path)\n",
    "\n",
    "                elif modification.change_type == ModificationType.DELETE:\n",
    "                    commit_counts.pop(old_path, '')\n",
    "\n",
    "                elif modification.change_type == ModificationType.ADD:\n",
    "                    commit_counts[new_path] = 1\n",
    "\n",
    "                else: # modification to existing file\n",
    "                        commit_counts [old_path] += 1\n",
    "            except Exception as e:\n",
    "                print(\"something went wrong with: \" + str(modification))\n",
    "                pass\n",
    "        return commit_counts\n",
    "        \n",
    "        \n",
    "\n",
    "# sort by number of commits in decreasing order\n",
    "commit_counts = commit_counts_better(all_commits)\n",
    "sorted_commits = sorted(commit_counts.items(), key=lambda x: x[1], reverse=True)[:42]\n",
    "# discussion: What is (\"None\", 103) ?"
   ]
  },
  {
   "cell_type": "code",
   "execution_count": null,
   "metadata": {},
   "outputs": [],
   "source": [
    "def package_activity():\n",
    "    package_activity = defaultdict(int)\n",
    "\n",
    "    for path, count in commit_counts.items():\n",
    "        if \".py\" in str(path):\n",
    "            l2_module = top_level_package(module_name_from_rel_path(path), 2)\n",
    "            package_activity[l2_module] += count\n",
    "\n",
    "    return package_activity\n",
    "\n",
    "package_activity = package_activity()\n",
    "sorted_sizes = sorted(package_activity.items(), key=lambda x: x[1], reverse=True)"
   ]
  },
  {
   "cell_type": "code",
   "execution_count": null,
   "metadata": {},
   "outputs": [
    {
     "ename": "NameError",
     "evalue": "name 'nx' is not defined",
     "output_type": "error",
     "traceback": [
      "\u001B[0;31m---------------------------------------------------------------------------\u001B[0m",
      "\u001B[0;31mNameError\u001B[0m                                 Traceback (most recent call last)",
      "Cell \u001B[0;32mIn[33], line 2\u001B[0m\n\u001B[1;32m      1\u001B[0m plt\u001B[38;5;241m.\u001B[39mfigure(figsize\u001B[38;5;241m=\u001B[39m(\u001B[38;5;241m7\u001B[39m,\u001B[38;5;241m7\u001B[39m))\n\u001B[0;32m----> 2\u001B[0m \u001B[43mnx\u001B[49m\u001B[38;5;241m.\u001B[39mdraw_networkx(ADG, with_labels\u001B[38;5;241m=\u001B[39m\u001B[38;5;28;01mTrue\u001B[39;00m, node_size \u001B[38;5;241m=\u001B[39m sizes, node_color\u001B[38;5;241m=\u001B[39m\u001B[38;5;124m'\u001B[39m\u001B[38;5;124mr\u001B[39m\u001B[38;5;124m'\u001B[39m)\n\u001B[1;32m      3\u001B[0m plt\u001B[38;5;241m.\u001B[39mshow()\n",
      "\u001B[0;31mNameError\u001B[0m: name 'nx' is not defined"
     ]
    },
    {
     "data": {
      "text/plain": [
       "<Figure size 700x700 with 0 Axes>"
      ]
     },
     "metadata": {},
     "output_type": "display_data"
    }
   ],
   "source": [
    "plt.figure(figsize=(7,7))\n",
    "nx.draw_networkx(ADG, with_labels=True, node_size = sizes, node_color='r')\n",
    "plt.show()\n"
   ]
  },
  {
   "cell_type": "markdown",
   "metadata": {},
   "source": [
    "## Dynamic Analysis\n",
    "Not as relavent for project.\n",
    "Plan: Dont know if i will do this yet."
   ]
  },
  {
   "cell_type": "code",
   "execution_count": null,
   "metadata": {},
   "outputs": [],
   "source": [
    "import inspect\n",
    "\n",
    "def methods_in_class(cls):\n",
    "    \"\"\" Returns all the methods in a class \"\"\"\n",
    "    return [\n",
    "\t\t(name, object) \n",
    "\t\tfor (name, object) \n",
    "\t\t\tin cls.__dict__.items() \n",
    "\t\tif hasattr(object, '__call__')]\n",
    "    \n",
    "def log_decorator( function ):\n",
    "    \"\"\" A decorator that logs the function on call \"\"\"\n",
    "    def decorated( *args, **kwargs ):\n",
    "        print (f'I have been called: {function}')\n",
    "        return function( *args,**kwargs )\n",
    "    return decorated\n",
    "\n",
    "def decorate_methods( cls, decorator ):\n",
    "    \"\"\" Decorates all the methods in a class with a log_decorator\"\"\"\n",
    "    methods = methods_in_class(cls)\n",
    "    for name, method in methods:\n",
    "\t    setattr( cls, name, decorator ( method ))\n",
    "    return cls\n",
    "\n",
    "\n",
    "def caller(): \n",
    "\tcallee()\n",
    "\n",
    "def callee():\n",
    "    \"\"\" Prints the name of the calling function\"\"\"\n",
    "    print(inspect.stack()[1].function)\n",
    "\n",
    "caller()\n",
    "\n"
   ]
  },
  {
   "cell_type": "code",
   "execution_count": null,
   "metadata": {},
   "outputs": [],
   "source": [
    "# Decoreate the user class:\n",
    "from zeeguu.core.model import User\n",
    "decorate_methods(User, log_decorator)\n",
    "\n",
    "u= User.find_by_id(534)\n",
    "u.bookmark_count()\n",
    "\n",
    "# to see even further one can instrument also third party libraries!\n",
    "from sqlalchemy.orm.query import Query\n",
    "decorate_methods(Query, log_decorator)\n"
   ]
  }
 ],
 "metadata": {
  "kernelspec": {
   "display_name": "Python 3 (ipykernel)",
   "language": "python",
   "name": "python3"
  },
  "language_info": {
   "codemirror_mode": {
    "name": "ipython",
    "version": 3
   },
   "file_extension": ".py",
   "mimetype": "text/x-python",
   "name": "python",
   "nbconvert_exporter": "python",
   "pygments_lexer": "ipython3",
   "version": "3.12.2"
  }
 },
 "nbformat": 4,
 "nbformat_minor": 4
}

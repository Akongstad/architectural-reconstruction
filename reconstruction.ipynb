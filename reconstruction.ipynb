{
 "cells": [
  {
   "cell_type": "markdown",
   "metadata": {},
   "source": [
    "# Case Study: Zeeguu/API\n",
    "- Backend of a web application that supports [free reading in foreign languages](https://zeeguu.org)\n",
    "- Open source [repository on GH](https://github.com/zeeguu/API/)\n",
    "\n",
    "## Table of conentents\n",
    "1. [Basic Data Gathering](#Basic Data Gathering)\n",
    "    1. [Extract dependencies](#Extract dependencies)\n",
    "    2. [Visualize](#Visualize)\n",
    "2. [Abstraction](#Abstraction)\n",
    "3. [Evolution](#Evolution)\n",
    "\n"
   ]
  },
  {
   "cell_type": "markdown",
   "metadata": {},
   "source": [
    "## Basic Data Gathering\n",
    "\n",
    "- extracting basic dependencies between python modules\n",
    "- every .py file is called a module in Python\n",
    "- direct relationship between file name and module name\n",
    "  - file: `./zeeguu_core/model/user.py` <==>\n",
    "  - module: `zeeguu_core.model.User`\n"
   ]
  },
  {
   "cell_type": "code",
   "execution_count": 1,
   "metadata": {},
   "outputs": [
    {
     "name": "stdout",
     "output_type": "stream",
     "text": [
      "Collecting gitpython\n",
      "  Downloading GitPython-3.1.43-py3-none-any.whl.metadata (13 kB)\n",
      "Collecting gitdb<5,>=4.0.1 (from gitpython)\n",
      "  Downloading gitdb-4.0.11-py3-none-any.whl.metadata (1.2 kB)\n",
      "Collecting smmap<6,>=3.0.1 (from gitdb<5,>=4.0.1->gitpython)\n",
      "  Downloading smmap-5.0.1-py3-none-any.whl.metadata (4.3 kB)\n",
      "Downloading GitPython-3.1.43-py3-none-any.whl (207 kB)\n",
      "\u001b[2K   \u001b[38;2;114;156;31m━━━━━━━━━━━━━━━━━━━━━━━━━━━━━━━━━━━━━━━━\u001b[0m \u001b[32m207.3/207.3 kB\u001b[0m \u001b[31m8.7 MB/s\u001b[0m eta \u001b[36m0:00:00\u001b[0m\n",
      "\u001b[?25hDownloading gitdb-4.0.11-py3-none-any.whl (62 kB)\n",
      "\u001b[2K   \u001b[38;2;114;156;31m━━━━━━━━━━━━━━━━━━━━━━━━━━━━━━━━━━━━━━━━\u001b[0m \u001b[32m62.7/62.7 kB\u001b[0m \u001b[31m5.2 MB/s\u001b[0m eta \u001b[36m0:00:00\u001b[0m\n",
      "\u001b[?25hDownloading smmap-5.0.1-py3-none-any.whl (24 kB)\n",
      "Installing collected packages: smmap, gitdb, gitpython\n",
      "Successfully installed gitdb-4.0.11 gitpython-3.1.43 smmap-5.0.1\n",
      "Collecting pyvis\n",
      "  Downloading pyvis-0.3.2-py3-none-any.whl.metadata (1.7 kB)\n",
      "Requirement already satisfied: ipython>=5.3.0 in /opt/homebrew/Caskroom/miniconda/base/lib/python3.12/site-packages (from pyvis) (8.22.2)\n",
      "Requirement already satisfied: jinja2>=2.9.6 in /opt/homebrew/Caskroom/miniconda/base/lib/python3.12/site-packages (from pyvis) (3.1.3)\n",
      "Collecting jsonpickle>=1.4.1 (from pyvis)\n",
      "  Downloading jsonpickle-3.0.4-py3-none-any.whl.metadata (2.6 kB)\n",
      "Collecting networkx>=1.11 (from pyvis)\n",
      "  Downloading networkx-3.3-py3-none-any.whl.metadata (5.1 kB)\n",
      "Requirement already satisfied: decorator in /opt/homebrew/Caskroom/miniconda/base/lib/python3.12/site-packages (from ipython>=5.3.0->pyvis) (5.1.1)\n",
      "Requirement already satisfied: jedi>=0.16 in /opt/homebrew/Caskroom/miniconda/base/lib/python3.12/site-packages (from ipython>=5.3.0->pyvis) (0.19.1)\n",
      "Requirement already satisfied: matplotlib-inline in /opt/homebrew/Caskroom/miniconda/base/lib/python3.12/site-packages (from ipython>=5.3.0->pyvis) (0.1.6)\n",
      "Requirement already satisfied: prompt-toolkit<3.1.0,>=3.0.41 in /opt/homebrew/Caskroom/miniconda/base/lib/python3.12/site-packages (from ipython>=5.3.0->pyvis) (3.0.42)\n",
      "Requirement already satisfied: pygments>=2.4.0 in /opt/homebrew/Caskroom/miniconda/base/lib/python3.12/site-packages (from ipython>=5.3.0->pyvis) (2.17.2)\n",
      "Requirement already satisfied: stack-data in /opt/homebrew/Caskroom/miniconda/base/lib/python3.12/site-packages (from ipython>=5.3.0->pyvis) (0.6.2)\n",
      "Requirement already satisfied: traitlets>=5.13.0 in /opt/homebrew/Caskroom/miniconda/base/lib/python3.12/site-packages (from ipython>=5.3.0->pyvis) (5.14.2)\n",
      "Requirement already satisfied: pexpect>4.3 in /opt/homebrew/Caskroom/miniconda/base/lib/python3.12/site-packages (from ipython>=5.3.0->pyvis) (4.9.0)\n",
      "Requirement already satisfied: MarkupSafe>=2.0 in /opt/homebrew/Caskroom/miniconda/base/lib/python3.12/site-packages (from jinja2>=2.9.6->pyvis) (2.1.5)\n",
      "Requirement already satisfied: parso<0.9.0,>=0.8.3 in /opt/homebrew/Caskroom/miniconda/base/lib/python3.12/site-packages (from jedi>=0.16->ipython>=5.3.0->pyvis) (0.8.3)\n",
      "Requirement already satisfied: ptyprocess>=0.5 in /opt/homebrew/Caskroom/miniconda/base/lib/python3.12/site-packages (from pexpect>4.3->ipython>=5.3.0->pyvis) (0.7.0)\n",
      "Requirement already satisfied: wcwidth in /opt/homebrew/Caskroom/miniconda/base/lib/python3.12/site-packages (from prompt-toolkit<3.1.0,>=3.0.41->ipython>=5.3.0->pyvis) (0.2.13)\n",
      "Requirement already satisfied: executing>=1.2.0 in /opt/homebrew/Caskroom/miniconda/base/lib/python3.12/site-packages (from stack-data->ipython>=5.3.0->pyvis) (2.0.1)\n",
      "Requirement already satisfied: asttokens>=2.1.0 in /opt/homebrew/Caskroom/miniconda/base/lib/python3.12/site-packages (from stack-data->ipython>=5.3.0->pyvis) (2.4.1)\n",
      "Requirement already satisfied: pure-eval in /opt/homebrew/Caskroom/miniconda/base/lib/python3.12/site-packages (from stack-data->ipython>=5.3.0->pyvis) (0.2.2)\n",
      "Requirement already satisfied: six>=1.12.0 in /opt/homebrew/Caskroom/miniconda/base/lib/python3.12/site-packages (from asttokens>=2.1.0->stack-data->ipython>=5.3.0->pyvis) (1.16.0)\n",
      "Downloading pyvis-0.3.2-py3-none-any.whl (756 kB)\n",
      "\u001b[2K   \u001b[38;2;114;156;31m━━━━━━━━━━━━━━━━━━━━━━━━━━━━━━━━━━━━━━━━\u001b[0m \u001b[32m756.0/756.0 kB\u001b[0m \u001b[31m10.9 MB/s\u001b[0m eta \u001b[36m0:00:00\u001b[0m MB/s\u001b[0m eta \u001b[36m0:00:01\u001b[0m\n",
      "\u001b[?25hDownloading jsonpickle-3.0.4-py3-none-any.whl (39 kB)\n",
      "Downloading networkx-3.3-py3-none-any.whl (1.7 MB)\n",
      "\u001b[2K   \u001b[38;2;114;156;31m━━━━━━━━━━━━━━━━━━━━━━━━━━━━━━━━━━━━━━━━\u001b[0m \u001b[32m1.7/1.7 MB\u001b[0m \u001b[31m11.1 MB/s\u001b[0m eta \u001b[36m0:00:00\u001b[0m[36m0:00:01\u001b[0mm eta \u001b[36m0:00:01\u001b[0m\n",
      "\u001b[?25hInstalling collected packages: networkx, jsonpickle, pyvis\n",
      "Successfully installed jsonpickle-3.0.4 networkx-3.3 pyvis-0.3.2\n"
     ]
    }
   ],
   "source": [
    "# Credit: https://colab.research.google.com/drive/1oe_TV7936Zmmzbbgq8rzqFpxYPX7SQHP#scrollTo=Njkjj4fzUV2E\n",
    "# Installing Required Dependencies\n",
    "import sys\n",
    "sys.version\n",
    "!{sys.executable} -m pip install gitpython\n",
    "!{sys.executable} -m pip install pyvis"
   ]
  },
  {
   "cell_type": "code",
   "execution_count": 25,
   "metadata": {},
   "outputs": [
    {
     "name": "stdout",
     "output_type": "stream",
     "text": [
      "/Users/andreaskongstad/Developer/PycharmProjects/architectural-reconstruction\n",
      "   21206 total\n"
     ]
    },
    {
     "name": "stdout",
     "output_type": "stream",
     "text": [
      "     278\n"
     ]
    }
   ],
   "source": [
    "# Adopted from: https://colab.research.google.com/drive/1oe_TV7936Zmmzbbgq8rzqFpxYPX7SQHP#scrollTo=Njkjj4fzUV2E\n",
    "import os\n",
    "from git import Repo\n",
    "\n",
    "# Current Working Directory\n",
    "cwd = os.getcwd()\n",
    "print(cwd)\n",
    "\n",
    "# Code location\n",
    "CODE_ROOT_FOLDER=f\"{cwd}/data/zeeguu-api/\"\n",
    "\n",
    "# Clone the repository\n",
    "if not os.path.exists(CODE_ROOT_FOLDER):\n",
    "  Repo.clone_from(\"https://github.com/zeeguu/api\", CODE_ROOT_FOLDER)\n",
    "\n"
   ]
  },
  {
   "cell_type": "code",
   "execution_count": 26,
   "metadata": {},
   "outputs": [
    {
     "name": "stdout",
     "output_type": "stream",
     "text": [
      "   21206 total\n",
      "     278\n"
     ]
    }
   ],
   "source": [
    "# Count absolute lines of code and number of files \n",
    "!cd {CODE_ROOT_FOLDER} && git ls-files | grep '\\.py$' | xargs wc -l | grep total\n",
    "!cd {CODE_ROOT_FOLDER} && git ls-files | grep \"\\.py$\" | wc -l"
   ]
  },
  {
   "cell_type": "markdown",
   "metadata": {},
   "source": []
  },
  {
   "cell_type": "code",
   "execution_count": 3,
   "metadata": {},
   "outputs": [],
   "source": [
    "# helpers\n",
    "def file_path(file_name):\n",
    "    return f\"{CODE_ROOT_FOLDER}{file_name}\"\n",
    "\n",
    "def module_name_from_file_path(full_path):\n",
    "    \"\"\"\n",
    "    ../core/model/user.py -> zeeguu.core.model.user\n",
    "    \"\"\"\n",
    "    file_name = full_path[len(CODE_ROOT_FOLDER):]\n",
    "    file_name = file_name.replace(\"/__init__.py\",\"\")\n",
    "    file_name = file_name.replace(\"/\",\".\")\n",
    "    file_name = file_name.replace(\".py\",\"\")\n",
    "    return file_name\n",
    "  \n",
    "# Test  \n",
    "File_Name = \"zeeguu/core/model/user.py\"\n",
    "assert file_path(File_Name) == \"/Users/andreaskongstad/Developer/PycharmProjects/architectural-reconstruction/data/zeeguu-api/zeeguu/core/model/user.py\"\n",
    "assert module_name_from_file_path(file_path(File_Name)) == \"zeeguu.core.model.user\""
   ]
  },
  {
   "cell_type": "markdown",
   "metadata": {},
   "source": [
    "### Naïve way of extracting imports using regular expressions\n",
    "we assume that imports are always at the\n",
    "- TODO for you: add full support for imports; this is not complete...\n",
    "\n",
    "regex patterns used\n",
    "- ^ beginning of line\n",
    "- \\S anything that is not space\n",
    "- \\+ at least one occurrence of previous\n",
    "- ( ) capture group (read more at: https://pynative.com/python-regex-capturing-groups/)"
   ]
  },
  {
   "cell_type": "code",
   "execution_count": 7,
   "metadata": {},
   "outputs": [
    {
     "name": "stderr",
     "output_type": "stream",
     "text": [
      "<>:5: SyntaxWarning: invalid escape sequence '\\S'\n",
      "<>:7: SyntaxWarning: invalid escape sequence '\\S'\n",
      "<>:5: SyntaxWarning: invalid escape sequence '\\S'\n",
      "<>:7: SyntaxWarning: invalid escape sequence '\\S'\n",
      "/var/folders/ys/jqvdxmxs1v72x8tvx18y7nfm0000gn/T/ipykernel_53692/1735910557.py:5: SyntaxWarning: invalid escape sequence '\\S'\n",
      "  y = re.search(\"^from (\\S+)\", line)\n",
      "/var/folders/ys/jqvdxmxs1v72x8tvx18y7nfm0000gn/T/ipykernel_53692/1735910557.py:7: SyntaxWarning: invalid escape sequence '\\S'\n",
      "  y = re.search(\"^import (\\S+)\", line)\n"
     ]
    }
   ],
   "source": [
    "import re\n",
    "\n",
    "def import_from_line(line):\n",
    "    try:\n",
    "      y = re.search(\"^from (\\S+)\", line)\n",
    "      if not y:\n",
    "        y = re.search(\"^import (\\S+)\", line)\n",
    "      return y.group(1)\n",
    "    except:\n",
    "      return None\n",
    "  \n",
    "# extracts all the imported modules from a file\n",
    "# returns a module of the form zeeguu_core.model.bookmark, e.g.\n",
    "\n",
    "def imports_from_file(file):\n",
    "\n",
    "    all_imports = []\n",
    "\n",
    "    lines = [line for line in open(file)]\n",
    "\n",
    "    for line in lines:\n",
    "        imp = import_from_line(line)\n",
    "\n",
    "        if imp:\n",
    "            all_imports.append(imp)\n",
    "\n",
    "    return all_imports\n",
    "\n",
    "\n",
    "assert imports_from_file(file_path('zeeguu/core/model/bookmark.py')) == ['datetime', 'sqlalchemy', 'sqlalchemy', 'sqlalchemy.orm', 'sqlalchemy.orm.exc', 'wordstats', 'zeeguu.logging', 'zeeguu.core.bookmark_quality.fit_for_study', 'zeeguu.core.definition_of_learned', 'zeeguu.core.model', 'zeeguu.core.model.sorted_exercise_log', 'zeeguu.core.model.exercise', 'zeeguu.core.model.exercise_outcome', 'zeeguu.core.model.exercise_source', 'zeeguu.core.model.language', 'zeeguu.core.model.text', 'zeeguu.core.model.user', 'zeeguu.core.model.user_word', 'zeeguu.core.util.encoding', 'zeeguu.core.model.learning_cycle', 'zeeguu', 'zeeguu.core.model']\n",
    "assert imports_from_file(file_path('zeeguu/core/model/unique_code.py')) == ['datetime', 'random', 'zeeguu.core', 'sqlalchemy', 'zeeguu.core.model']"
   ]
  },
  {
   "cell_type": "markdown",
   "metadata": {},
   "source": [
    "### Extract dependencies\n",
    "To do that we iterate over all the python files with the help of the Path.rglob function from pathlib\n",
    "And we create a network with the help of the networkx package."
   ]
  },
  {
   "cell_type": "code",
   "execution_count": null,
   "metadata": {},
   "outputs": [],
   "source": [
    "# TODO use pyvis instead of networkx\n",
    "from pathlib import Path\n",
    "import networkx as nx\n",
    "\n",
    "def dependencies_graph(code_root_folder):\n",
    "    files = Path(code_root_folder).rglob(\"*.py\")\n",
    "\n",
    "    G = nx.Graph()\n",
    "\n",
    "    for file in files:\n",
    "        file_path = str(file)\n",
    "\n",
    "        module_name = module_name_from_file_path(file_path)\n",
    "\n",
    "        if module_name not in G.nodes:\n",
    "            G.add_node(module_name)\n",
    "\n",
    "        for each in imports_from_file(file_path):\n",
    "            G.add_edge(module_name, each)\n",
    "\n",
    "    return G"
   ]
  },
  {
   "cell_type": "markdown",
   "metadata": {},
   "source": [
    "### Visualize"
   ]
  },
  {
   "cell_type": "code",
   "execution_count": 27,
   "metadata": {},
   "outputs": [],
   "source": [
    "import matplotlib.pyplot as plt\n",
    "\n",
    "# a function to draw a graph\n",
    "def draw_graph(G, size, **args):\n",
    "    plt.figure(figsize=size)\n",
    "    nx.draw(G, **args)\n",
    "    plt.show()\n",
    "    \n",
    "\n",
    "def dependencies_digraph(code_root_folder):\n",
    "    files = Path(code_root_folder).rglob(\"*.py\")\n",
    "\n",
    "    G = nx.DiGraph()\n",
    "\n",
    "    for file in files:\n",
    "        file_path = str(file)\n",
    "\n",
    "        source_module = module_name_from_file_path(file_path)\n",
    "\n",
    "        if source_module not in G.nodes:\n",
    "            G.add_node(source_module)\n",
    "\n",
    "        for target_module in imports_from_file(file_path):\n",
    "\n",
    "            G.add_edge(source_module, target_module)\n",
    "            # print(module_name + \"=>\" + each + \".\")\n",
    "\n",
    "    return G"
   ]
  },
  {
   "cell_type": "code",
   "execution_count": null,
   "metadata": {},
   "outputs": [],
   "source": [
    "# Looking at the directed graph\n",
    "DG = dependencies_digraph(CODE_ROOT_FOLDER)\n",
    "draw_graph(DG, (40,40), with_labels=True)"
   ]
  },
  {
   "cell_type": "markdown",
   "metadata": {},
   "source": [
    "## Abstraction\n",
    "What do we have now:\n",
    "- System: zeeguu/api\n",
    "- Source View: Modules & Dependencies\n",
    "- Entities: .py files in the project\n",
    "- Relationships: import statements between .py files\n",
    "\n",
    "Plan: Abstraction methods\n",
    "1. Folder hierarchy\n",
    "2. Aggregate dependencies using metrics. (Sum of calls)\n",
    "    - Total count of explicit low-level dependencies\n",
    "    - Number of distinct explicit low-level dependencies\n",
    "    - Network analysis to detect rank packages: Note (It should not be that hard, the networkx package supports various methods of network analysis, e.g. centrality, HITS, pagerank.)\n",
    "3. Create different level graphs and pass them to OpenAI vision model"
   ]
  },
  {
   "cell_type": "markdown",
   "metadata": {},
   "source": [
    "### Filter relevant modules"
   ]
  },
  {
   "cell_type": "code",
   "execution_count": null,
   "metadata": {},
   "outputs": [],
   "source": [
    "\n",
    "def relevant_module(module_name):\n",
    "    \"\"\"\n",
    "    Define relevant modules\n",
    "    \"\"\"\n",
    "    if \"test\" in module_name:\n",
    "        return False\n",
    "\n",
    "\n",
    "    if module_name.startswith(\"zeeguu\"):\n",
    "        return True\n",
    "\n",
    "\n",
    "    return False\n",
    "\n",
    "def dependencies_digraph(code_root_folder):\n",
    "    files = Path(code_root_folder).rglob(\"*.py\")\n",
    "\n",
    "    G = nx.DiGraph()\n",
    "\n",
    "    for file in files:\n",
    "        file_path = str(file)\n",
    "\n",
    "        source_module = module_name_from_file_path(file_path)\n",
    "        if not relevant_module(source_module):\n",
    "          continue\n",
    "\n",
    "        if source_module not in G.nodes:\n",
    "            G.add_node(source_module)\n",
    "\n",
    "        for target_module in imports_from_file(file_path):\n",
    "\n",
    "            if relevant_module(target_module):\n",
    "              G.add_edge(source_module, target_module)\n",
    "\n",
    "\n",
    "    return G\n",
    "\n",
    "# Looking at the directed graph\n",
    "DG = dependencies_digraph(CODE_ROOT_FOLDER)\n",
    "draw_graph(DG, (40,40), with_labels=True)"
   ]
  },
  {
   "cell_type": "markdown",
   "metadata": {},
   "source": [
    "### Basic Abstraction Using Hierarchical Module Structure & Naming Conventions\n",
    "\n",
    "- abstracting the imports between the modules along the module hierarchy\n",
    "- also taking into account naming conventions to filter out external modules"
   ]
  },
  {
   "cell_type": "code",
   "execution_count": 2,
   "metadata": {},
   "outputs": [],
   "source": [
    "def top_level_package(module_name, depth=1):\n",
    "    \"\"\"Extract parent of module at depth\"\"\"\n",
    "    components = module_name.split(\".\")\n",
    "    return \".\".join(components[:depth])\n",
    "\n",
    "assert (top_level_package(\"zeeguu.core.model.util\") == \"zeeguu\")\n",
    "assert (top_level_package(\"zeeguu.core.model.util\", 2) == \"zeeguu.core\")\n",
    "\n",
    "\n",
    "def abstracted_to_top_level(G, depth=1):\n",
    "    aG = nx.DiGraph()\n",
    "    for each in G.edges():\n",
    "        src = top_level_package(each[0], depth)\n",
    "        dst = top_level_package(each[1], depth)\n",
    "\n",
    "        if src != dst:\n",
    "          aG.add_edge(src, dst)\n",
    "\n",
    "    return aG\n",
    "\n",
    "ADG = abstracted_to_top_level(DG, 3)\n",
    "draw_graph(ADG, (8,8), with_labels=True)"
   ]
  },
  {
   "cell_type": "markdown",
   "metadata": {},
   "source": [
    "## Evolution\n",
    "Plan:\n",
    "1.  Churn Find hot code -- Most changed/imporant regions"
   ]
  },
  {
   "cell_type": "code",
   "execution_count": null,
   "metadata": {},
   "outputs": [],
   "source": [
    "!{sys.executable} -m pip install pydriller"
   ]
  },
  {
   "cell_type": "code",
   "execution_count": null,
   "metadata": {},
   "outputs": [],
   "source": [
    "from pydriller import Repository\n",
    "REPO_DIR = 'https://github.com/zeeguu/api'"
   ]
  },
  {
   "cell_type": "code",
   "execution_count": null,
   "metadata": {},
   "outputs": [],
   "source": [
    "# for PyDriller to work we need to change directory to our local clone of the repo\n",
    "%cd /data/zeeguu-api"
   ]
  },
  {
   "cell_type": "markdown",
   "metadata": {},
   "source": []
  }
 ],
 "metadata": {
  "kernelspec": {
   "display_name": "base",
   "language": "python",
   "name": "python3"
  },
  "language_info": {
   "codemirror_mode": {
    "name": "ipython",
    "version": 3
   },
   "file_extension": ".py",
   "mimetype": "text/x-python",
   "name": "python",
   "nbconvert_exporter": "python",
   "pygments_lexer": "ipython3",
   "version": "3.12.2"
  }
 },
 "nbformat": 4,
 "nbformat_minor": 2
}

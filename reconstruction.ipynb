{
 "cells": [
  {
   "cell_type": "markdown",
   "metadata": {},
   "source": [
    "# Case Study: Zeeguu/API\n",
    "- Backend of a web application that supports [free reading in foreign languages](https://zeeguu.org)\n",
    "- Open source [repository on GH](https://github.com/zeeguu/API/)\n",
    "\n",
    "## Table of conentents\n",
    "1. [Basic Data Gathering](#basic-data-gathering)\n",
    "    1. [Extract dependencies](#extract-dependencies)\n",
    "    2. [Visualize](#Visualize)\n",
    "2. [Abstraction](#Abstraction)\n",
    "3. [Evolution](#Evolution)\n",
    "4. [Dynamic Analysis](#dynamic-analysis)\n",
    "\n"
   ]
  },
  {
   "cell_type": "markdown",
   "metadata": {},
   "source": [
    "## Basic Data Gathering\n",
    "\n",
    "- extracting basic dependencies between python modules\n",
    "- every .py file is called a module in Python\n",
    "- direct relationship between file name and module name\n",
    "  - file: `./zeeguu_core/model/user.py` <==>\n",
    "  - module: `zeeguu_core.model.User`\n"
   ]
  },
  {
   "cell_type": "code",
   "execution_count": 1,
   "metadata": {
    "ExecuteTime": {
     "end_time": "2024-05-09T18:53:06.196879Z",
     "start_time": "2024-05-09T18:53:03.549576Z"
    }
   },
   "outputs": [
    {
     "name": "stdout",
     "output_type": "stream",
     "text": [
      "Requirement already satisfied: gitpython in /opt/homebrew/Caskroom/miniconda/base/lib/python3.12/site-packages (3.1.43)\n",
      "Requirement already satisfied: gitdb<5,>=4.0.1 in /opt/homebrew/Caskroom/miniconda/base/lib/python3.12/site-packages (from gitpython) (4.0.11)\n",
      "Requirement already satisfied: smmap<6,>=3.0.1 in /opt/homebrew/Caskroom/miniconda/base/lib/python3.12/site-packages (from gitdb<5,>=4.0.1->gitpython) (5.0.1)\n",
      "Requirement already satisfied: pyvis in /opt/homebrew/Caskroom/miniconda/base/lib/python3.12/site-packages (0.3.2)\n",
      "Requirement already satisfied: ipython>=5.3.0 in /opt/homebrew/Caskroom/miniconda/base/lib/python3.12/site-packages (from pyvis) (8.22.2)\n",
      "Requirement already satisfied: jinja2>=2.9.6 in /opt/homebrew/Caskroom/miniconda/base/lib/python3.12/site-packages (from pyvis) (3.1.3)\n",
      "Requirement already satisfied: jsonpickle>=1.4.1 in /opt/homebrew/Caskroom/miniconda/base/lib/python3.12/site-packages (from pyvis) (3.0.4)\n",
      "Requirement already satisfied: networkx>=1.11 in /opt/homebrew/Caskroom/miniconda/base/lib/python3.12/site-packages (from pyvis) (3.3)\n",
      "Requirement already satisfied: decorator in /opt/homebrew/Caskroom/miniconda/base/lib/python3.12/site-packages (from ipython>=5.3.0->pyvis) (5.1.1)\n",
      "Requirement already satisfied: jedi>=0.16 in /opt/homebrew/Caskroom/miniconda/base/lib/python3.12/site-packages (from ipython>=5.3.0->pyvis) (0.19.1)\n",
      "Requirement already satisfied: matplotlib-inline in /opt/homebrew/Caskroom/miniconda/base/lib/python3.12/site-packages (from ipython>=5.3.0->pyvis) (0.1.6)\n",
      "Requirement already satisfied: prompt-toolkit<3.1.0,>=3.0.41 in /opt/homebrew/Caskroom/miniconda/base/lib/python3.12/site-packages (from ipython>=5.3.0->pyvis) (3.0.42)\n",
      "Requirement already satisfied: pygments>=2.4.0 in /opt/homebrew/Caskroom/miniconda/base/lib/python3.12/site-packages (from ipython>=5.3.0->pyvis) (2.17.2)\n",
      "Requirement already satisfied: stack-data in /opt/homebrew/Caskroom/miniconda/base/lib/python3.12/site-packages (from ipython>=5.3.0->pyvis) (0.6.2)\n",
      "Requirement already satisfied: traitlets>=5.13.0 in /opt/homebrew/Caskroom/miniconda/base/lib/python3.12/site-packages (from ipython>=5.3.0->pyvis) (5.14.2)\n",
      "Requirement already satisfied: pexpect>4.3 in /opt/homebrew/Caskroom/miniconda/base/lib/python3.12/site-packages (from ipython>=5.3.0->pyvis) (4.9.0)\n",
      "Requirement already satisfied: MarkupSafe>=2.0 in /opt/homebrew/Caskroom/miniconda/base/lib/python3.12/site-packages (from jinja2>=2.9.6->pyvis) (2.1.5)\n",
      "Requirement already satisfied: parso<0.9.0,>=0.8.3 in /opt/homebrew/Caskroom/miniconda/base/lib/python3.12/site-packages (from jedi>=0.16->ipython>=5.3.0->pyvis) (0.8.3)\n",
      "Requirement already satisfied: ptyprocess>=0.5 in /opt/homebrew/Caskroom/miniconda/base/lib/python3.12/site-packages (from pexpect>4.3->ipython>=5.3.0->pyvis) (0.7.0)\n",
      "Requirement already satisfied: wcwidth in /opt/homebrew/Caskroom/miniconda/base/lib/python3.12/site-packages (from prompt-toolkit<3.1.0,>=3.0.41->ipython>=5.3.0->pyvis) (0.2.13)\n",
      "Requirement already satisfied: executing>=1.2.0 in /opt/homebrew/Caskroom/miniconda/base/lib/python3.12/site-packages (from stack-data->ipython>=5.3.0->pyvis) (2.0.1)\n",
      "Requirement already satisfied: asttokens>=2.1.0 in /opt/homebrew/Caskroom/miniconda/base/lib/python3.12/site-packages (from stack-data->ipython>=5.3.0->pyvis) (2.4.1)\n",
      "Requirement already satisfied: pure-eval in /opt/homebrew/Caskroom/miniconda/base/lib/python3.12/site-packages (from stack-data->ipython>=5.3.0->pyvis) (0.2.2)\n",
      "Requirement already satisfied: six>=1.12.0 in /opt/homebrew/Caskroom/miniconda/base/lib/python3.12/site-packages (from asttokens>=2.1.0->stack-data->ipython>=5.3.0->pyvis) (1.16.0)\n"
     ]
    }
   ],
   "source": [
    "# Credit: https://colab.research.google.com/drive/1oe_TV7936Zmmzbbgq8rzqFpxYPX7SQHP#scrollTo=Njkjj4fzUV2E\n",
    "# Installing Required Dependencies\n",
    "import sys\n",
    "sys.version\n",
    "!{sys.executable} -m pip install gitpython\n",
    "!{sys.executable} -m pip install pyvis"
   ]
  },
  {
   "cell_type": "code",
   "execution_count": 2,
   "metadata": {
    "ExecuteTime": {
     "end_time": "2024-05-09T18:56:34.149009Z",
     "start_time": "2024-05-09T18:56:34.089786Z"
    }
   },
   "outputs": [
    {
     "name": "stdout",
     "output_type": "stream",
     "text": [
      "/Users/andreaskongstad/Developer/PycharmProjects/architectural-reconstruction\n"
     ]
    }
   ],
   "source": [
    "# Adopted from: https://colab.research.google.com/drive/1oe_TV7936Zmmzbbgq8rzqFpxYPX7SQHP#scrollTo=Njkjj4fzUV2E\n",
    "import os\n",
    "from git import Repo\n",
    "\n",
    "# Current Working Directory\n",
    "cwd = os.getcwd()\n",
    "print(cwd)\n",
    "\n",
    "# Code location\n",
    "CODE_ROOT_FOLDER=f\"/Users/andreaskongstad/Developer/PycharmProjects/architectural-reconstruction/data/zeeguu-api/\"\n",
    "\n",
    "# Clone the repository\n",
    "if not os.path.exists(CODE_ROOT_FOLDER):\n",
    "  Repo.clone_from(\"https://github.com/zeeguu/api\", CODE_ROOT_FOLDER)\n",
    "\n"
   ]
  },
  {
   "cell_type": "code",
   "execution_count": 3,
   "metadata": {
    "ExecuteTime": {
     "end_time": "2024-05-09T18:56:35.807608Z",
     "start_time": "2024-05-09T18:56:35.510709Z"
    }
   },
   "outputs": [
    {
     "name": "stdout",
     "output_type": "stream",
     "text": [
      "   21206 total\n",
      "     278\n"
     ]
    }
   ],
   "source": [
    "# Count absolute lines of code and number of files \n",
    "!cd {CODE_ROOT_FOLDER} && git ls-files | grep '\\.py$' | xargs wc -l | grep total\n",
    "!cd {CODE_ROOT_FOLDER} && git ls-files | grep \"\\.py$\" | wc -l"
   ]
  },
  {
   "cell_type": "code",
   "execution_count": 4,
   "metadata": {
    "ExecuteTime": {
     "end_time": "2024-05-09T18:56:58.111762Z",
     "start_time": "2024-05-09T18:56:58.106665Z"
    }
   },
   "outputs": [
    {
     "name": "stdout",
     "output_type": "stream",
     "text": [
      "/Users/andreaskongstad/Developer/PycharmProjects/architectural-reconstruction/data/zeeguu-api/zeeguu/core/model/user.py\n"
     ]
    }
   ],
   "source": [
    "# helpers\n",
    "def file_path(file_name):\n",
    "    return f\"{CODE_ROOT_FOLDER}{file_name}\"\n",
    "\n",
    "\n",
    "def module_name_from_file_path(full_path):\n",
    "    \"\"\"\n",
    "    ../core/model/user.py -> zeeguu.core.model.user\n",
    "    \"\"\"\n",
    "    file_name = full_path[len(CODE_ROOT_FOLDER):]\n",
    "    file_name = file_name.replace(\"/__init__.py\",\"\")\n",
    "    file_name = file_name.replace(\"/\",\".\")\n",
    "    file_name = file_name.replace(\".py\",\"\")\n",
    "    return file_name\n",
    "\n",
    "File_Name = \"zeeguu/core/model/user.py\"\n",
    "print(file_path(File_Name))\n",
    "assert file_path(File_Name) == \"/Users/andreaskongstad/Developer/PycharmProjects/architectural-reconstruction/data/zeeguu-api/zeeguu/core/model/user.py\"\n",
    "assert module_name_from_file_path(file_path(File_Name)) == \"zeeguu.core.model.user\"\n",
    "\n",
    "\n",
    "def module_name_from_rel_path(full_path):\n",
    "\n",
    "    # e.g. ../core/model/user.py -> zeeguu.core.model.user\n",
    "\n",
    "    file_name = full_path.replace(\"/__init__.py\",\"\")\n",
    "    file_name = file_name.replace(\"/\",\".\")\n",
    "    file_name = file_name.replace(\".py\",\"\")\n",
    "    return file_name\n",
    "\n",
    "assert (\"tools.migrations.teacher_dashboard_migration_1.upgrade\" == module_name_from_rel_path(\"tools/migrations/teacher_dashboard_migration_1/upgrade.py\"))\n",
    "assert (\"zeeguu.api\") == module_name_from_rel_path(\"zeeguu/api/__init__.py\")\n",
    "\n",
    "\n",
    "  "
   ]
  },
  {
   "cell_type": "markdown",
   "metadata": {},
   "source": [
    "### AST based parsing"
   ]
  },
  {
   "cell_type": "code",
   "execution_count": 6,
   "metadata": {
    "ExecuteTime": {
     "end_time": "2024-05-09T18:57:03.415900Z",
     "start_time": "2024-05-09T18:57:03.413172Z"
    }
   },
   "outputs": [],
   "source": [
    "# Import class\n",
    "from collections import defaultdict\n",
    "\n",
    "class Import:\n",
    "    def __init__(self, module:str, total_calls:int=0):\n",
    "        self.module = module\n",
    "        self.function_calls = defaultdict(int)\n",
    "        self.distinct_calls = set()\n",
    "        self.total_calls = total_calls\n",
    "\n",
    "    def __str__(self):\n",
    "        return (f\"Import: module {self.module}\\n\"\n",
    "                f\"Function calls {[f'{k} : {v}' for k,v in self.function_calls.items()]}\\n\"\n",
    "                f\"Distinct calls {self.distinct_calls}\\n\"\n",
    "                f\"Total calls: {self.total_calls}\\n\")\n",
    "\n"
   ]
  },
  {
   "cell_type": "code",
   "execution_count": 158,
   "metadata": {
    "ExecuteTime": {
     "end_time": "2024-05-09T21:40:03.781184Z",
     "start_time": "2024-05-09T21:40:03.739012Z"
    }
   },
   "outputs": [
    {
     "name": "stdout",
     "output_type": "stream",
     "text": [
      "{'zeeguu.core.model', 'flask', 'zeeguu.api.endpoints.teacher_dashboard', 'zeeguu.api.utils', 'datetime', 'zeeguu.api.endpoints.teacher_dashboard.student._common_api_parameters', 'zeeguu.api.endpoints.teacher_dashboard.student._only_teachers_decorator', 'zeeguu.core', 'zeeguu.api.endpoints.teacher_dashboard.student._permissions', 'dateutil.utils', 'zeeguu.api.endpoints.teacher_dashboard.student.helpers'}\n",
      "Import: module zeeguu.api.utils\n",
      "Function calls ['zeeguu.api.utils.json_result : 2']\n",
      "Distinct calls {'zeeguu.api.utils.json_result'}\n",
      "Total calls: 2\n",
      "\n",
      "Imports: {'zeeguu.core.model', 'sqlalchemy', 'datetime', 'random', 'zeeguu.core'}\n",
      "Import_v: defaultdict(<function parse_imports.<locals>.<lambda> at 0x138d1c720>, {'datetime': <__main__.Import object at 0x138f60f20>, 'random': <__main__.Import object at 0x138f61940>, 'zeeguu.core': <__main__.Import object at 0x138f600e0>, 'sqlalchemy': <__main__.Import object at 0x138f62ff0>, 'zeeguu.core.model': <__main__.Import object at 0x138f614c0>, 'cls': <__main__.Import object at 0x138f60d40>})\n",
      "Import_total: Import: module zeeguu.core.model\n",
      "Function calls ['zeeguu.core.model.db.Column : 4', 'zeeguu.core.model.db.String : 2']\n",
      "Distinct calls {'zeeguu.core.model.db.Column', 'zeeguu.core.model.db.String'}\n",
      "Total calls: 6\n",
      "\n"
     ]
    }
   ],
   "source": [
    "import ast\n",
    "from collections import defaultdict\n",
    "from typing import assert_type\n",
    "\n",
    "\n",
    "def parse_imports(file):\n",
    "    with open(file) as f:\n",
    "        tree = ast.parse(f.read(), filename=file)\n",
    "    \n",
    "    imports = set() # all imported modules\n",
    "    imports_v : defaultdict[str, Import] = defaultdict(lambda : Import(\"None\") )\n",
    "    function_to_module = {} # alias to module mapping\n",
    "    function_to_module_function = {} # alias to module mapping\n",
    "    \n",
    "    try:\n",
    "        for node in ast.walk(tree):\n",
    "            match node:\n",
    "                case ast.Import(names=names ):\n",
    "                    for alias in names:\n",
    "                        imports.add(alias.name)\n",
    "                        imports_v[alias.name] = Import(alias.name)\n",
    "                \n",
    "                case ast.ImportFrom(module=module, names=names, level=level):\n",
    "                    # What if module == .?\n",
    "                    #print(f\"Import from: {module} {names}\")\n",
    "                    if module == \"word_scheduling.basicSR.basicSR\":\n",
    "                        print(f\"Found: {module} {level} {module_name_from_file_path(file)}\")\n",
    "                    if level > 0:\n",
    "                        # from .hello.package import module\n",
    "                        #print(f\"Relative import: {module} {names} {level} {file}\")\n",
    "                        pre_module = module_name_from_file_path(file).split(\".\")\n",
    "                        while level > 1: # ._common_api_parameters\n",
    "                            pre_module.pop()\n",
    "                            level -= 1\n",
    "                        pre_module = \".\".join(pre_module)\n",
    "                        if module == None: # from . import module\n",
    "                            module = pre_module\n",
    "                        else:\n",
    "                            module = pre_module + \".\" + module #zeeguu.api.endpoints.teacher_dashboard._common_api_parameters\n",
    "                        #print(f\"fixed import: {module} {names} {level} {file}\")\n",
    "                        \n",
    "                    imports.add(module)\n",
    "                    imports_v[module] = Import(module) \n",
    "                \n",
    "                    \n",
    "                    for alias in names:\n",
    "                        function_to_module[alias.name] = module\n",
    "                        function_to_module_function[alias.name] = module + \".\" + alias.name\n",
    "                        if \"zeeguu.word_scheduling.basicSR.basicSR\" == module:\n",
    "                           print(f\"Found: {module} {alias.name}\")\n",
    "\n",
    "                # The imported function is assigned to a variable\n",
    "                # case ast.Assign(_):\n",
    "                #     print(f\"Assign: {node}\")\n",
    "                case ast.Assign(targets=[ast.Name(id=id)], value=ast.Call(func=ast.Name (id=name), args=args, keywords=keywords)):\n",
    "                    if name in function_to_module: \n",
    "                        #print(f\"Assign: {id} {name}\")   \n",
    "                        function_to_module[id] = function_to_module[name]\n",
    "                        function_to_module_function[id] = function_to_module_function[name]\n",
    "                    \n",
    "                \n",
    "                case ast.Call(func=ast.Attribute(value=ast.Name(id=id), attr=attr), args=args, keywords=keywords): # logger.log(\"asdasdasd\")\n",
    "                    if id in function_to_module.keys():\n",
    "                        #print(f\"Call: {id} {attr}\")\n",
    "                        imports_v[function_to_module[id]].function_calls[f\"{function_to_module_function[id]}.{attr}\"] += 1\n",
    "                        imports_v[function_to_module[id]].total_calls += 1\n",
    "                        imports_v[function_to_module[id]].distinct_calls.add(f\"{function_to_module_function[id]}.{attr}\")\n",
    "                    \n",
    "                case ast.Call(func=ast.Name(id=id), args=args, keywords=keywords): # log(\"asdasdsd\")\n",
    "                    \n",
    "                    if id in function_to_module.keys():\n",
    "                        #print(f\"Call: {id}\"\n",
    "                        imports_v[function_to_module[id]].function_calls[f\"{function_to_module_function[id]}\"] += 1\n",
    "                        imports_v[function_to_module[id]].total_calls += 1\n",
    "                        imports_v[function_to_module[id]].distinct_calls.add(f\"{function_to_module_function[id]}\")\n",
    "                case ast.Call(func=call_value):\n",
    "                    attr_stack = []\n",
    "                    \n",
    "                    while isinstance(call_value, ast.Attribute):\n",
    "                        attr_stack.append(call_value.attr)\n",
    "                        call_value = call_value.value\n",
    "                        \n",
    "                    match call_value:\n",
    "                        case ast.Name(id=id):\n",
    "                            attr_stack.append(call_value.id)\n",
    "                        case ast.Constant(value=value):\n",
    "                            attr_stack.append(call_value.value)\n",
    "                        case _ :\n",
    "                            # Out of scope for now\n",
    "                            continue\n",
    "                    \n",
    "                    call = \".\".join(reversed(attr_stack))\n",
    "                    function_to_module[f\"{call}\"] = call.split(\".\")[0]\n",
    "                    if call.split(\".\")[0] in imports_v.keys() or call in function_to_module.keys():\n",
    "                        #print(f\"Call: {call}\")   \n",
    "                        imports_v[call.split(\".\")[0]].function_calls[f\"{call}\"] += 1\n",
    "                        imports_v[call.split(\".\")[0]].total_calls += 1\n",
    "                        imports_v[call.split(\".\")[0]].distinct_calls.add(f\"{call}\")\n",
    "                \n",
    "    except Exception as e:\n",
    "        print(f\"Error in {file}: {e}\")\n",
    "        print(f\"Module: {module}\")\n",
    "        print(f\"Alias: {alias.name}\")\n",
    "                    \n",
    "\n",
    "    return imports, imports_v\n",
    "print(parse_imports(file_path(\"zeeguu/api/endpoints/teacher_dashboard/student.py\"))[0])\n",
    "print(parse_imports(file_path(\"zeeguu/api/endpoints/teacher_dashboard/student.py\"))[1][\"zeeguu.api.utils\"])\n",
    "#print(parse_imports(file_path(\"zeeguu/api/endpoints/teacher_dashboard/student.py\"))[1][\"zeeguu.api.endpoints.teacher_dashboard.student\"])\n",
    "#print(parse_imports(file_path(\"zeeguu/cl/__init__.py\"))[0])\n",
    "#print(parse_imports(file_path(\"zeeguu/core/content_recommender/elastic_recommender.py\"))[0])\n",
    "#print(parse_imports(file_path(\"zeeguu/core/emailer/zeeguu_mailer.py\"))[0])\n",
    "#print(parse_imports(file_path(\"zeeguu/core/emailer/zeeguu_mailer.py\"))[1][\"zeeguu\"])\n",
    "#print(parse_imports(file_path(\"zeeguu/api/utils/translator.py\"))[1][\"zeeguu.logging\"])\n",
    "assert parse_imports(file_path('zeeguu/core/model/unique_code.py'))[0] == {'datetime', 'zeeguu.core', 'zeeguu.core.model', 'sqlalchemy', 'random'}\n",
    "\n",
    "imports = parse_imports(file_path('zeeguu/core/model/unique_code.py'))\n",
    "print(f\"Imports: {imports[0]}\")\n",
    "print(f\"Import_v: {imports[1]}\")\n",
    "print(f\"Import_total: {imports[1]['zeeguu.core.model']}\")\n"
   ]
  },
  {
   "cell_type": "code",
   "execution_count": null,
   "metadata": {
    "ExecuteTime": {
     "end_time": "2024-05-09T21:32:46.457369Z",
     "start_time": "2024-05-09T21:32:46.455106Z"
    }
   },
   "outputs": [],
   "source": []
  },
  {
   "cell_type": "markdown",
   "metadata": {},
   "source": [
    "### Extract dependencies and visalize\n",
    "To do that we iterate over all the python files with the help of the Path.rglob function from pathlib\n",
    "And we create a network with the help of the networkx package.Visualize"
   ]
  },
  {
   "cell_type": "code",
   "execution_count": 159,
   "metadata": {
    "ExecuteTime": {
     "end_time": "2024-05-09T21:33:25.669527Z",
     "start_time": "2024-05-09T21:33:25.663160Z"
    }
   },
   "outputs": [],
   "source": [
    "# TODO: Add dependency data on hover\n",
    "# TODO: Add coloration depending on node level\n",
    "import pyvis.network as Network\n",
    "import matplotlib.pyplot as plt\n",
    "from pathlib import Path\n",
    "import networkx as nx\n",
    "\n",
    "def dependencies_digraph(code_root_folder):\n",
    "    files = Path(code_root_folder).rglob(\"*.py\")\n",
    "\n",
    "    G = nx.DiGraph()\n",
    "\n",
    "    for file in files:\n",
    "        file_path = str(file)\n",
    "\n",
    "        source_module = module_name_from_file_path(file_path)\n",
    "\n",
    "        if source_module not in G.nodes:\n",
    "            G.add_node(source_module)\n",
    "\n",
    "        imports, _ = parse_imports(file_path)\n",
    "        for target_module in imports:\n",
    "\n",
    "            G.add_edge(source_module, target_module)\n",
    "            # print(module_name + \"=>\" + each + \".\")\n",
    "\n",
    "    return G\n",
    "\n",
    "# a function to draw a graph\n",
    "def draw_graph_plt(G, size, **args):\n",
    "    plt.figure(figsize=size)\n",
    "    nx.draw(G, **args)\n",
    "    plt.show()\n",
    "    \n",
    "def draw_graph_pyvis(G, size, output_file, **args):\n",
    "    h, w = size\n",
    "    # Adjaency list\n",
    "    neighbors = G.adj\n",
    "    # Add neighbors on hover\n",
    "    for node in G.nodes:\n",
    "        G.nodes[node][\"title\"] = \" Imports:\\n\" + \"\\n\".join(neighbors[node])\n",
    "        G.nodes[node][\"value\"] = len(neighbors[node])\n",
    "        G.nodes[node][\"font\"] = {\"size\": 32, \"color\": \"white\"}\n",
    "    \n",
    "    g = Network.Network(height=h, width=w,notebook=True, cdn_resources='in_line', directed=True,  **args) \n",
    "    for n in g.nodes:\n",
    "        n[\"size\"] = 100\n",
    "        n[\"font\"]={\"size\": 100}\n",
    "    g.show_buttons(filter_=['physics'])\n",
    "    g.from_nx(G)\n",
    "    g.barnes_hut()\n",
    "    #g.toggle_physics(True)\n",
    "    \n",
    "    g.show(output_file)\n",
    "\n",
    "def draw_graph_pyvis_example():\n",
    "\n",
    "    G = nx.complete_graph(5)\n",
    "    draw_graph_pyvis(G, (\"1000px\",  \"100%\"), \"example.html\", bgcolor=\"#222222\", font_color=\"white\")   \n",
    "    \n",
    "    \n"
   ]
  },
  {
   "cell_type": "code",
   "execution_count": 160,
   "metadata": {
    "ExecuteTime": {
     "end_time": "2024-05-09T21:33:27.728298Z",
     "start_time": "2024-05-09T21:33:27.472636Z"
    }
   },
   "outputs": [
    {
     "name": "stderr",
     "output_type": "stream",
     "text": [
      "/Users/andreaskongstad/Developer/PycharmProjects/architectural-reconstruction/data/zeeguu-api/zeeguu/core/model/starred_article.py:71: SyntaxWarning: invalid escape sequence '\\ '\n",
      "  \"\"\"\n",
      "/Users/andreaskongstad/Developer/PycharmProjects/architectural-reconstruction/data/zeeguu-api/zeeguu/core/model/article.py:28: SyntaxWarning: invalid escape sequence '\\s'\n",
      "  MULTIPLE_NEWLINES = re.compile(\"\\n\\s*\\n\")\n"
     ]
    },
    {
     "name": "stdout",
     "output_type": "stream",
     "text": [
      "Found: word_scheduling.basicSR.basicSR 2 zeeguu.core.model\n"
     ]
    },
    {
     "name": "stderr",
     "output_type": "stream",
     "text": [
      "/Users/andreaskongstad/Developer/PycharmProjects/architectural-reconstruction/data/zeeguu-api/zeeguu/core/language/strategies/word_rank_difficulty_estimator.py:63: SyntaxWarning: invalid escape sequence '\\d'\n",
      "  words = [w for w in words if re.search(\"\\d\", w) == None]\n"
     ]
    },
    {
     "name": "stdout",
     "output_type": "stream",
     "text": [
      "draw_all.html\n"
     ]
    }
   ],
   "source": [
    "# Looking at the directed graph\n",
    "DG = dependencies_digraph(CODE_ROOT_FOLDER)\n",
    "draw_graph_pyvis(DG, (1000,1000), \"draw_all.html\", bgcolor=\"#222222\", font_color=\"white\")\n",
    "# draw_graph_plt(DG, (10,10), with_labels=True, node_size=1000, font_size=10)"
   ]
  },
  {
   "cell_type": "markdown",
   "metadata": {},
   "source": []
  },
  {
   "cell_type": "markdown",
   "metadata": {},
   "source": [
    "## Abstraction\n",
    "What do we have now:\n",
    "- System: zeeguu/api\n",
    "- Source View: Modules & Dependencies\n",
    "- Entities: .py files in the project\n",
    "- Relationships: import statements between .py files\n",
    "\n",
    "Plan: Abstraction methods\n",
    "1. Folder hierarchy\n",
    "2. Aggregate dependencies using metrics. (Sum of calls)\n",
    "    - Total count of explicit low-level dependencies\n",
    "    - Number of distinct explicit low-level dependencies\n",
    "    - Network analysis to detect rank packages: Note (It should not be that hard, the networkx package supports various methods of network analysis, e.g. centrality, HITS, pagerank.)\n",
    "3. Create different level graphs and pass them to OpenAI vision model"
   ]
  },
  {
   "cell_type": "markdown",
   "metadata": {},
   "source": [
    "### Filter relevant modules"
   ]
  },
  {
   "cell_type": "code",
   "execution_count": 161,
   "metadata": {
    "ExecuteTime": {
     "end_time": "2024-05-09T21:33:30.087959Z",
     "start_time": "2024-05-09T21:33:29.905769Z"
    }
   },
   "outputs": [
    {
     "name": "stderr",
     "output_type": "stream",
     "text": [
      "/Users/andreaskongstad/Developer/PycharmProjects/architectural-reconstruction/data/zeeguu-api/zeeguu/core/model/starred_article.py:71: SyntaxWarning: invalid escape sequence '\\ '\n",
      "  \"\"\"\n",
      "/Users/andreaskongstad/Developer/PycharmProjects/architectural-reconstruction/data/zeeguu-api/zeeguu/core/model/article.py:28: SyntaxWarning: invalid escape sequence '\\s'\n",
      "  MULTIPLE_NEWLINES = re.compile(\"\\n\\s*\\n\")\n"
     ]
    },
    {
     "name": "stdout",
     "output_type": "stream",
     "text": [
      "Found: word_scheduling.basicSR.basicSR 2 zeeguu.core.model\n"
     ]
    },
    {
     "name": "stderr",
     "output_type": "stream",
     "text": [
      "/Users/andreaskongstad/Developer/PycharmProjects/architectural-reconstruction/data/zeeguu-api/zeeguu/core/language/strategies/word_rank_difficulty_estimator.py:63: SyntaxWarning: invalid escape sequence '\\d'\n",
      "  words = [w for w in words if re.search(\"\\d\", w) == None]\n"
     ]
    },
    {
     "name": "stdout",
     "output_type": "stream",
     "text": [
      "draw_all_filtered.html\n",
      "DiGraph with 220 nodes and 563 edges\n"
     ]
    }
   ],
   "source": [
    "\n",
    "def relevant_module(module_name):\n",
    "    \"\"\"\n",
    "    Define relevant modules\n",
    "    \"\"\"\n",
    "    if \"test\" in module_name:\n",
    "        return False\n",
    "    if module_name.startswith(\"zeeguu\"):\n",
    "        return True\n",
    "\n",
    "\n",
    "    return False\n",
    "\n",
    "def dependencies_digraph_filtered(code_root_folder):\n",
    "    files = Path(code_root_folder).rglob(\"*.py\")\n",
    "\n",
    "    G = nx.DiGraph()\n",
    "\n",
    "    for file in files:\n",
    "        file_path = str(file)\n",
    "\n",
    "        source_module = module_name_from_file_path(file_path)\n",
    "        if not relevant_module(source_module):\n",
    "          continue\n",
    "\n",
    "        if source_module not in G.nodes:\n",
    "            G.add_node(source_module)\n",
    "            \n",
    "        imports, imports_v= parse_imports(file_path)\n",
    "        for target_module in imports_v.keys():\n",
    "\n",
    "            if relevant_module(target_module):\n",
    "                \n",
    "                import_object = imports_v[target_module]\n",
    "                G.add_edge(source_module, target_module, value=import_object.total_calls,\n",
    "                           title=f\"Total calls: {import_object.total_calls}\\n\"\n",
    "                                 f\"Distinct calls: {len(import_object.distinct_calls)}\\n\"\n",
    "                                 f\"Functions: \\n{\"\\n\".join(import_object.distinct_calls)}\")\n",
    "\n",
    "\n",
    "    return G\n",
    "\n",
    "# Looking at the directed graph\n",
    "DG = dependencies_digraph_filtered(CODE_ROOT_FOLDER)\n",
    "draw_graph_pyvis(DG, (\"1000px\",  \"100%\"), \"draw_all_filtered.html\", bgcolor=\"#222222\", font_color=\"white\")\n",
    "print(DG)"
   ]
  },
  {
   "cell_type": "markdown",
   "metadata": {},
   "source": [
    "### Basic Abstraction Using Hierarchical Module Structure & Naming Conventions\n",
    "\n",
    "- abstracting the imports between the modules along the module hierarchy\n",
    "- also taking into account naming conventions to filter out external modules"
   ]
  },
  {
   "cell_type": "code",
   "execution_count": 162,
   "metadata": {
    "ExecuteTime": {
     "end_time": "2024-05-09T21:37:17.781924Z",
     "start_time": "2024-05-09T21:37:17.775937Z"
    }
   },
   "outputs": [],
   "source": [
    "def top_level_package(module_name, depth=1):\n",
    "    \"\"\"Extract parent of module at depth\"\"\"\n",
    "    components = module_name.split(\".\")\n",
    "    return \".\".join(components[:depth])\n",
    "\n",
    "assert (top_level_package(\"zeeguu.core.model.util\") == \"zeeguu\")\n",
    "assert (top_level_package(\"zeeguu.core.model.util\", 2) == \"zeeguu.core\")\n",
    "\n",
    "def merge_imports(import1 : Import, import2 : Import) -> Import:\n",
    "    \"\"\"\n",
    "    Merge two imports into a new import\n",
    "    :param import1: Import to merge into\n",
    "    :param import2: Import to merge from\n",
    "    :return: import 1 with merged values\n",
    "    \"\"\"\n",
    "    merged : Import = Import(import1.module)\n",
    "    merged.total_calls = import1.total_calls + import2.total_calls\n",
    "    merged.distinct_calls = import1.distinct_calls.union(import2.distinct_calls)\n",
    "    merged.function_calls = import1.function_calls.copy()\n",
    "    \n",
    "    for k,v in import2.function_calls.items():\n",
    "        merged.function_calls[k] += v\n",
    "    \n",
    "    return merged\n",
    "    \n",
    "assert merge_imports(Import(\"zeeguu.core\", 10), Import(\"zeeguu.core.model\", 20)).total_calls == 30\n",
    "assert merge_imports(Import(\"zeeguu.core\", 10), Import(\"zeeguu.core.model\", 20)).module == \"zeeguu.core\"\n"
   ]
  },
  {
   "cell_type": "code",
   "execution_count": 163,
   "metadata": {
    "ExecuteTime": {
     "end_time": "2024-05-09T21:37:18.602452Z",
     "start_time": "2024-05-09T21:37:18.384637Z"
    }
   },
   "outputs": [
    {
     "name": "stderr",
     "output_type": "stream",
     "text": [
      "/Users/andreaskongstad/Developer/PycharmProjects/architectural-reconstruction/data/zeeguu-api/zeeguu/core/model/starred_article.py:71: SyntaxWarning: invalid escape sequence '\\ '\n",
      "  \"\"\"\n",
      "/Users/andreaskongstad/Developer/PycharmProjects/architectural-reconstruction/data/zeeguu-api/zeeguu/core/model/article.py:28: SyntaxWarning: invalid escape sequence '\\s'\n",
      "  MULTIPLE_NEWLINES = re.compile(\"\\n\\s*\\n\")\n"
     ]
    },
    {
     "name": "stdout",
     "output_type": "stream",
     "text": [
      "Found: word_scheduling.basicSR.basicSR 2 zeeguu.core.model\n",
      "DiGraph with 220 nodes and 563 edges\n",
      "DiGraph with 6 nodes and 7 edges\n",
      "Import map: dict_keys([])\n",
      "Abstracted map dict_keys(['zeeguu', 'zeeguu.logging'])\n"
     ]
    },
    {
     "name": "stderr",
     "output_type": "stream",
     "text": [
      "/Users/andreaskongstad/Developer/PycharmProjects/architectural-reconstruction/data/zeeguu-api/zeeguu/core/language/strategies/word_rank_difficulty_estimator.py:63: SyntaxWarning: invalid escape sequence '\\d'\n",
      "  words = [w for w in words if re.search(\"\\d\", w) == None]\n"
     ]
    }
   ],
   "source": [
    "def dependencies_digraph_filtered_v2(code_root_folder, depth=2) -> (nx.DiGraph, defaultdict[str, defaultdict[str, Import]]):\n",
    "    files = Path(code_root_folder).rglob(\"*.py\")\n",
    "    import_map : defaultdict[str, defaultdict[str, Import]] =  defaultdict(lambda : defaultdict(lambda: Import(\"None\")))\n",
    "\n",
    "    G = nx.DiGraph()\n",
    "    \n",
    "    for file in files:\n",
    "        file_path = str(file)\n",
    "\n",
    "        source_module = module_name_from_file_path(file_path)\n",
    "        if not relevant_module(source_module):\n",
    "            continue\n",
    "        \n",
    "        imports, imports_v = parse_imports(file_path)\n",
    "        \n",
    "        import_map[source_module] = imports_v #\n",
    "        \n",
    "        if source_module not in G.nodes:\n",
    "            G.add_node(source_module)\n",
    "        \n",
    "        for target_module in imports_v.keys():\n",
    "\n",
    "            if relevant_module(target_module):\n",
    "                \n",
    "                import_object = imports_v[target_module]\n",
    "                G.add_edge(source_module, target_module, value=import_object.total_calls,\n",
    "                           title=f\"Total calls: {import_object.total_calls}\\n\"\n",
    "                                 f\"Distinct calls: {len(import_object.distinct_calls)}\\n\"\n",
    "                                 f\"Functions: \\n{\"\\n\".join(import_object.distinct_calls)}\")\n",
    "    \n",
    "    \n",
    "    return G, import_map\n",
    "\n",
    "def abstracted_to_top_level(G, import_map, depth=1):\n",
    "    aG = nx.DiGraph()\n",
    "    abstracted_import_map : defaultdict[str, defaultdict[str, Import]] =  defaultdict(lambda : defaultdict(lambda: Import(\"None\")))\n",
    "    \n",
    "    for edge in G.edges():\n",
    "        src = top_level_package(edge[0], depth)\n",
    "        dst = top_level_package(edge[1], depth)\n",
    "    \n",
    "        if src != dst:\n",
    "            if dst == \"zeeguu.word_scheduling\":\n",
    "                print(f\"Import {edge[0]} => {edge[1]} ---------------: {src} => {dst}\")\n",
    "            \n",
    "            #print(f\"Import {edge[0]} => {edge[1]} ---------------: {src} => {dst}\")\n",
    "            abstracted_import_map[src][dst].module = dst\n",
    "            abstracted_import_map[src][dst] = merge_imports(abstracted_import_map[src][dst], import_map[edge[0]][edge[1]])\n",
    "            count = abstracted_import_map[src][dst].total_calls\n",
    "            relavent_imports = [(k,v) for k,v in abstracted_import_map[src][dst].function_calls.items() if relevant_module(k)]\n",
    "\n",
    "            aG.add_edge(src, dst, value= count, title=f\"Total calls: {count}\\n\"\n",
    "                                     f\"Distinct calls: {len(relavent_imports)}\\n\"\n",
    "                                     f\"Functions: \\n{\"\\n\".join([f'{k} : {v}' for k,v in sorted(relavent_imports, key=lambda x: x[1], reverse=True)])}\")\n",
    "\n",
    "    return aG, abstracted_import_map\n",
    "\n",
    "\n",
    "depth = 2\n",
    "G, import_map = dependencies_digraph_filtered_v2(CODE_ROOT_FOLDER, depth)\n",
    "AG, a_import_map = abstracted_to_top_level(G, import_map, depth)\n",
    "print(G) \n",
    "print(AG)\n",
    "print(f\"Import map: {import_map[\"zeeguu.core\"].keys()}\")\n",
    "print(f\"Abstracted map {a_import_map[\"zeeguu.core\"].keys()}\")\n"
   ]
  },
  {
   "cell_type": "code",
   "execution_count": 166,
   "metadata": {
    "ExecuteTime": {
     "end_time": "2024-05-09T21:37:22.623923Z",
     "start_time": "2024-05-09T21:37:22.418636Z"
    }
   },
   "outputs": [
    {
     "name": "stderr",
     "output_type": "stream",
     "text": [
      "/Users/andreaskongstad/Developer/PycharmProjects/architectural-reconstruction/data/zeeguu-api/zeeguu/core/model/starred_article.py:71: SyntaxWarning: invalid escape sequence '\\ '\n",
      "  \"\"\"\n"
     ]
    },
    {
     "name": "stdout",
     "output_type": "stream",
     "text": [
      "Found: word_scheduling.basicSR.basicSR 2 zeeguu.core.model\n"
     ]
    },
    {
     "name": "stderr",
     "output_type": "stream",
     "text": [
      "/Users/andreaskongstad/Developer/PycharmProjects/architectural-reconstruction/data/zeeguu-api/zeeguu/core/model/article.py:28: SyntaxWarning: invalid escape sequence '\\s'\n",
      "  MULTIPLE_NEWLINES = re.compile(\"\\n\\s*\\n\")\n",
      "/Users/andreaskongstad/Developer/PycharmProjects/architectural-reconstruction/data/zeeguu-api/zeeguu/core/language/strategies/word_rank_difficulty_estimator.py:63: SyntaxWarning: invalid escape sequence '\\d'\n",
      "  words = [w for w in words if re.search(\"\\d\", w) == None]\n"
     ]
    },
    {
     "name": "stdout",
     "output_type": "stream",
     "text": [
      "draw_all_filtered_abstracted2.html\n"
     ]
    }
   ],
   "source": [
    "def draw_graph_pyvis_v2(G, size, output_file, **args):\n",
    "    h, w = size\n",
    "    # Adjaency list\n",
    "    neighbors = G.adj\n",
    "    # Add neighbors on hover\n",
    "    for node in G.nodes:\n",
    "        G.nodes[node][\"title\"] = \" Imports:\\n\" + \"\\n\".join(neighbors[node])\n",
    "        G.nodes[node][\"group\"] = top_level_package(node, 2)\n",
    "    \n",
    "    # Scaling the size of the nodes by 5*degree\n",
    "    scale = 3 # Scaling the size of the nodes by 10*degree\n",
    "    degrees = dict(G.degree())\n",
    "    degrees.update((x, scale*y) for x, y in degrees.items())\n",
    "    nx.set_node_attributes(G, degrees, \"size\")\n",
    "        \n",
    "    g = Network.Network(height=h, width=w,notebook=True, cdn_resources='in_line', directed=True,  **args) \n",
    "    g.show_buttons()\n",
    "    g.from_nx(G)\n",
    "    g.barnes_hut()\n",
    "    g.show(output_file)\n",
    "    \n",
    "depth = 3\n",
    "DG, import_map = dependencies_digraph_filtered_v2(CODE_ROOT_FOLDER, depth)\n",
    "ADG, a_import_map = abstracted_to_top_level(DG, import_map, depth)\n",
    "draw_graph_pyvis_v2(ADG, (\"800px\",\"100%\"), \"draw_all_filtered_abstracted2.html\", bgcolor=\"#222222\", font_color=\"white\")"
   ]
  },
  {
   "cell_type": "markdown",
   "metadata": {},
   "source": [
    "## Evolution\n",
    "Plan:\n",
    "1.  Churn Find hot code -- Most changed/imporant regions\n",
    "\n",
    "2. Extract multiple complementary module views from your case study system\n",
    "3. Ensure that your layouts are readable - limit the number of nodes in a view, use a different layout in networkx, or use a different library than networkx\n",
    "4. Augment each of the previously obtained module views by mapping the above-computed churn metric on the color of a given node"
   ]
  },
  {
   "cell_type": "code",
   "execution_count": 165,
   "metadata": {},
   "outputs": [
    {
     "name": "stdout",
     "output_type": "stream",
     "text": [
      "13671.89s - pydevd: Sending message related to process being replaced timed-out after 5 seconds\n",
      "Requirement already satisfied: pydriller in /opt/homebrew/Caskroom/miniconda/base/lib/python3.12/site-packages (2.6)\n",
      "Requirement already satisfied: gitpython in /opt/homebrew/Caskroom/miniconda/base/lib/python3.12/site-packages (from pydriller) (3.1.43)\n",
      "Requirement already satisfied: pytz in /opt/homebrew/Caskroom/miniconda/base/lib/python3.12/site-packages (from pydriller) (2024.1)\n",
      "Requirement already satisfied: types-pytz in /opt/homebrew/Caskroom/miniconda/base/lib/python3.12/site-packages (from pydriller) (2024.1.0.20240417)\n",
      "Requirement already satisfied: lizard in /opt/homebrew/Caskroom/miniconda/base/lib/python3.12/site-packages (from pydriller) (1.17.10)\n",
      "Requirement already satisfied: gitdb<5,>=4.0.1 in /opt/homebrew/Caskroom/miniconda/base/lib/python3.12/site-packages (from gitpython->pydriller) (4.0.11)\n",
      "Requirement already satisfied: smmap<6,>=3.0.1 in /opt/homebrew/Caskroom/miniconda/base/lib/python3.12/site-packages (from gitdb<5,>=4.0.1->gitpython->pydriller) (5.0.1)\n"
     ]
    }
   ],
   "source": [
    "!{sys.executable} -m pip install pydriller"
   ]
  },
  {
   "cell_type": "code",
   "execution_count": null,
   "metadata": {},
   "outputs": [],
   "source": [
    "from pydriller import Repository\n",
    "REPO_DIR = 'https://github.com/zeeguu/api'"
   ]
  },
  {
   "cell_type": "code",
   "execution_count": null,
   "metadata": {},
   "outputs": [
    {
     "name": "stdout",
     "output_type": "stream",
     "text": [
      "/Users/andreaskongstad/Developer/PycharmProjects/architectural-reconstruction/data/zeeguu-api\n"
     ]
    }
   ],
   "source": [
    "# for PyDriller to work we need to change directory to our local clone of the repo\n",
    "%cd {CODE_ROOT_FOLDER}"
   ]
  },
  {
   "cell_type": "code",
   "execution_count": null,
   "metadata": {},
   "outputs": [],
   "source": [
    "from collections import defaultdict\n",
    "from pydriller import ModificationType\n",
    "\n",
    "all_commits = list(Repository(REPO_DIR).traverse_commits())\n",
    "\n",
    "def print_out_commit_details(commits):\n",
    "    \"\"\" Usage: print_out_commit_details(all_commits[0:1])\"\"\"\n",
    "    for commit in commits:\n",
    "        print(commit)\n",
    "        for each in commit.modified_files:\n",
    "            print(f\"{commit.author.name} {each.change_type} {each.filename}\\n -{each.old_path}\\n -{each.new_path}\")\n",
    "\n",
    "\n",
    "def commit_counts(all_commits):\n",
    "    commit_counts = defaultdict(int)\n",
    "\n",
    "    for commit in all_commits:\n",
    "        for file in commit.modified_files:\n",
    "            commit_counts[file.new_path] += 1\n",
    "\n",
    "    return commit_counts\n",
    "\n",
    "\n",
    "def commit_counts_better(all_commits):\n",
    "    commit_counts = {}\n",
    "    for commit in all_commits:\n",
    "        for modification in commit.modified_files:\n",
    "\n",
    "            new_path = modification.new_path\n",
    "            old_path = modification.old_path\n",
    "\n",
    "            try:\n",
    "                if modification.change_type == ModificationType.RENAME:\n",
    "                    commit_counts[new_path]=commit_counts.get(old_path,0)+1\n",
    "                    commit_counts.pop(old_path)\n",
    "\n",
    "                elif modification.change_type == ModificationType.DELETE:\n",
    "                    commit_counts.pop(old_path, '')\n",
    "\n",
    "                elif modification.change_type == ModificationType.ADD:\n",
    "                    commit_counts[new_path] = 1\n",
    "\n",
    "                else: # modification to existing file\n",
    "                        commit_counts [old_path] += 1\n",
    "            except Exception as e:\n",
    "                print(\"something went wrong with: \" + str(modification))\n",
    "                pass\n",
    "        return commit_counts\n",
    "        \n",
    "        \n",
    "\n",
    "# sort by number of commits in decreasing order\n",
    "commit_counts = commit_counts_better(all_commits)\n",
    "sorted_commits = sorted(commit_counts.items(), key=lambda x: x[1], reverse=True)[:42]\n",
    "# discussion: What is (\"None\", 103) ?"
   ]
  },
  {
   "cell_type": "code",
   "execution_count": null,
   "metadata": {},
   "outputs": [],
   "source": [
    "def package_activity():\n",
    "    package_activity = defaultdict(int)\n",
    "\n",
    "    for path, count in commit_counts.items():\n",
    "        if \".py\" in str(path):\n",
    "            l2_module = top_level_package(module_name_from_rel_path(path), 2)\n",
    "            package_activity[l2_module] += count\n",
    "\n",
    "    return package_activity\n",
    "\n",
    "package_activity = package_activity()\n",
    "sorted_sizes = sorted(package_activity.items(), key=lambda x: x[1], reverse=True)"
   ]
  },
  {
   "cell_type": "code",
   "execution_count": null,
   "metadata": {},
   "outputs": [
    {
     "ename": "NameError",
     "evalue": "name 'nx' is not defined",
     "output_type": "error",
     "traceback": [
      "\u001b[0;31m---------------------------------------------------------------------------\u001b[0m",
      "\u001b[0;31mNameError\u001b[0m                                 Traceback (most recent call last)",
      "Cell \u001b[0;32mIn[33], line 2\u001b[0m\n\u001b[1;32m      1\u001b[0m plt\u001b[38;5;241m.\u001b[39mfigure(figsize\u001b[38;5;241m=\u001b[39m(\u001b[38;5;241m7\u001b[39m,\u001b[38;5;241m7\u001b[39m))\n\u001b[0;32m----> 2\u001b[0m \u001b[43mnx\u001b[49m\u001b[38;5;241m.\u001b[39mdraw_networkx(ADG, with_labels\u001b[38;5;241m=\u001b[39m\u001b[38;5;28;01mTrue\u001b[39;00m, node_size \u001b[38;5;241m=\u001b[39m sizes, node_color\u001b[38;5;241m=\u001b[39m\u001b[38;5;124m'\u001b[39m\u001b[38;5;124mr\u001b[39m\u001b[38;5;124m'\u001b[39m)\n\u001b[1;32m      3\u001b[0m plt\u001b[38;5;241m.\u001b[39mshow()\n",
      "\u001b[0;31mNameError\u001b[0m: name 'nx' is not defined"
     ]
    },
    {
     "data": {
      "text/plain": [
       "<Figure size 700x700 with 0 Axes>"
      ]
     },
     "metadata": {},
     "output_type": "display_data"
    }
   ],
   "source": [
    "plt.figure(figsize=(7,7))\n",
    "nx.draw_networkx(ADG, with_labels=True, node_size = sizes, node_color='r')\n",
    "plt.show()\n"
   ]
  },
  {
   "cell_type": "markdown",
   "metadata": {},
   "source": [
    "## Dynamic Analysis\n",
    "Not as relavent for project.\n",
    "Plan: Dont know if i will do this yet."
   ]
  },
  {
   "cell_type": "code",
   "execution_count": null,
   "metadata": {},
   "outputs": [],
   "source": [
    "import inspect\n",
    "\n",
    "def methods_in_class(cls):\n",
    "    \"\"\" Returns all the methods in a class \"\"\"\n",
    "    return [\n",
    "\t\t(name, object) \n",
    "\t\tfor (name, object) \n",
    "\t\t\tin cls.__dict__.items() \n",
    "\t\tif hasattr(object, '__call__')]\n",
    "    \n",
    "def log_decorator( function ):\n",
    "    \"\"\" A decorator that logs the function on call \"\"\"\n",
    "    def decorated( *args, **kwargs ):\n",
    "        print (f'I have been called: {function}')\n",
    "        return function( *args,**kwargs )\n",
    "    return decorated\n",
    "\n",
    "def decorate_methods( cls, decorator ):\n",
    "    \"\"\" Decorates all the methods in a class with a log_decorator\"\"\"\n",
    "    methods = methods_in_class(cls)\n",
    "    for name, method in methods:\n",
    "\t    setattr( cls, name, decorator ( method ))\n",
    "    return cls\n",
    "\n",
    "\n",
    "def caller(): \n",
    "\tcallee()\n",
    "\n",
    "def callee():\n",
    "    \"\"\" Prints the name of the calling function\"\"\"\n",
    "    print(inspect.stack()[1].function)\n",
    "\n",
    "caller()\n",
    "\n"
   ]
  },
  {
   "cell_type": "code",
   "execution_count": null,
   "metadata": {},
   "outputs": [],
   "source": [
    "# Decoreate the user class:\n",
    "from zeeguu.core.model import User\n",
    "decorate_methods(User, log_decorator)\n",
    "\n",
    "u= User.find_by_id(534)\n",
    "u.bookmark_count()\n",
    "\n",
    "# to see even further one can instrument also third party libraries!\n",
    "from sqlalchemy.orm.query import Query\n",
    "decorate_methods(Query, log_decorator)\n"
   ]
  }
 ],
 "metadata": {
  "kernelspec": {
   "display_name": "Python 3 (ipykernel)",
   "language": "python",
   "name": "python3"
  },
  "language_info": {
   "codemirror_mode": {
    "name": "ipython",
    "version": 3
   },
   "file_extension": ".py",
   "mimetype": "text/x-python",
   "name": "python",
   "nbconvert_exporter": "python",
   "pygments_lexer": "ipython3",
   "version": "3.12.2"
  }
 },
 "nbformat": 4,
 "nbformat_minor": 4
}

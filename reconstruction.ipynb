{
 "cells": [
  {
   "cell_type": "markdown",
   "metadata": {},
   "source": [
    "# Case Study: Zeeguu/API\n",
    "> **Credits:** The code extends code provided by [Mircae Lungu](https://github.com/mircealungu) for the course **Software Architecture ITU 2024**\n",
    "- Backend of a web application that supports [free reading in foreign languages](https://zeeguu.org)\n",
    "- Open source [repository on GH](https://github.com/zeeguu/API/)\n",
    "\n",
    "## Table of conentents\n",
    "1. [Basic Data Gathering](#basic-data-gathering)\n",
    "    1. [Extract dependencies](#extract-dependencies)\n",
    "    2. [Visualize](#Visualize)\n",
    "2. [Abstraction](#Abstraction)\n",
    "3. [Evolution](#Evolution)\n",
    "\n"
   ]
  },
  {
   "cell_type": "markdown",
   "metadata": {},
   "source": [
    "## Basic Data Gathering\n",
    "\n",
    "- extracting basic dependencies between python modules\n",
    "- every .py file is called a module in Python\n",
    "- direct relationship between file name and module name\n",
    "  - file: `./zeeguu_core/model/user.py` <==>\n",
    "  - module: `zeeguu_core.model.User`\n"
   ]
  },
  {
   "cell_type": "code",
   "execution_count": 234,
   "metadata": {
    "ExecuteTime": {
     "end_time": "2024-05-09T18:53:06.196879Z",
     "start_time": "2024-05-09T18:53:03.549576Z"
    }
   },
   "outputs": [
    {
     "name": "stdout",
     "output_type": "stream",
     "text": [
      "87765.32s - pydevd: Sending message related to process being replaced timed-out after 5 seconds\n",
      "Requirement already satisfied: gitpython in /opt/homebrew/Caskroom/miniconda/base/lib/python3.12/site-packages (3.1.43)\n",
      "Requirement already satisfied: gitdb<5,>=4.0.1 in /opt/homebrew/Caskroom/miniconda/base/lib/python3.12/site-packages (from gitpython) (4.0.11)\n",
      "Requirement already satisfied: smmap<6,>=3.0.1 in /opt/homebrew/Caskroom/miniconda/base/lib/python3.12/site-packages (from gitdb<5,>=4.0.1->gitpython) (5.0.1)\n",
      "87772.05s - pydevd: Sending message related to process being replaced timed-out after 5 seconds\n",
      "Requirement already satisfied: pyvis in /opt/homebrew/Caskroom/miniconda/base/lib/python3.12/site-packages (0.3.2)\n",
      "Requirement already satisfied: ipython>=5.3.0 in /opt/homebrew/Caskroom/miniconda/base/lib/python3.12/site-packages (from pyvis) (8.22.2)\n",
      "Requirement already satisfied: jinja2>=2.9.6 in /opt/homebrew/Caskroom/miniconda/base/lib/python3.12/site-packages (from pyvis) (3.1.3)\n",
      "Requirement already satisfied: jsonpickle>=1.4.1 in /opt/homebrew/Caskroom/miniconda/base/lib/python3.12/site-packages (from pyvis) (3.0.4)\n",
      "Requirement already satisfied: networkx>=1.11 in /opt/homebrew/Caskroom/miniconda/base/lib/python3.12/site-packages (from pyvis) (3.3)\n",
      "Requirement already satisfied: decorator in /opt/homebrew/Caskroom/miniconda/base/lib/python3.12/site-packages (from ipython>=5.3.0->pyvis) (5.1.1)\n",
      "Requirement already satisfied: jedi>=0.16 in /opt/homebrew/Caskroom/miniconda/base/lib/python3.12/site-packages (from ipython>=5.3.0->pyvis) (0.19.1)\n",
      "Requirement already satisfied: matplotlib-inline in /opt/homebrew/Caskroom/miniconda/base/lib/python3.12/site-packages (from ipython>=5.3.0->pyvis) (0.1.6)\n",
      "Requirement already satisfied: prompt-toolkit<3.1.0,>=3.0.41 in /opt/homebrew/Caskroom/miniconda/base/lib/python3.12/site-packages (from ipython>=5.3.0->pyvis) (3.0.42)\n",
      "Requirement already satisfied: pygments>=2.4.0 in /opt/homebrew/Caskroom/miniconda/base/lib/python3.12/site-packages (from ipython>=5.3.0->pyvis) (2.17.2)\n",
      "Requirement already satisfied: stack-data in /opt/homebrew/Caskroom/miniconda/base/lib/python3.12/site-packages (from ipython>=5.3.0->pyvis) (0.6.2)\n",
      "Requirement already satisfied: traitlets>=5.13.0 in /opt/homebrew/Caskroom/miniconda/base/lib/python3.12/site-packages (from ipython>=5.3.0->pyvis) (5.14.2)\n",
      "Requirement already satisfied: pexpect>4.3 in /opt/homebrew/Caskroom/miniconda/base/lib/python3.12/site-packages (from ipython>=5.3.0->pyvis) (4.9.0)\n",
      "Requirement already satisfied: MarkupSafe>=2.0 in /opt/homebrew/Caskroom/miniconda/base/lib/python3.12/site-packages (from jinja2>=2.9.6->pyvis) (2.1.5)\n",
      "Requirement already satisfied: parso<0.9.0,>=0.8.3 in /opt/homebrew/Caskroom/miniconda/base/lib/python3.12/site-packages (from jedi>=0.16->ipython>=5.3.0->pyvis) (0.8.3)\n",
      "Requirement already satisfied: ptyprocess>=0.5 in /opt/homebrew/Caskroom/miniconda/base/lib/python3.12/site-packages (from pexpect>4.3->ipython>=5.3.0->pyvis) (0.7.0)\n",
      "Requirement already satisfied: wcwidth in /opt/homebrew/Caskroom/miniconda/base/lib/python3.12/site-packages (from prompt-toolkit<3.1.0,>=3.0.41->ipython>=5.3.0->pyvis) (0.2.13)\n",
      "Requirement already satisfied: executing>=1.2.0 in /opt/homebrew/Caskroom/miniconda/base/lib/python3.12/site-packages (from stack-data->ipython>=5.3.0->pyvis) (2.0.1)\n",
      "Requirement already satisfied: asttokens>=2.1.0 in /opt/homebrew/Caskroom/miniconda/base/lib/python3.12/site-packages (from stack-data->ipython>=5.3.0->pyvis) (2.4.1)\n",
      "Requirement already satisfied: pure-eval in /opt/homebrew/Caskroom/miniconda/base/lib/python3.12/site-packages (from stack-data->ipython>=5.3.0->pyvis) (0.2.2)\n",
      "Requirement already satisfied: six>=1.12.0 in /opt/homebrew/Caskroom/miniconda/base/lib/python3.12/site-packages (from asttokens>=2.1.0->stack-data->ipython>=5.3.0->pyvis) (1.16.0)\n"
     ]
    }
   ],
   "source": [
    "# Credit: https://colab.research.google.com/drive/1oe_TV7936Zmmzbbgq8rzqFpxYPX7SQHP#scrollTo=Njkjj4fzUV2E\n",
    "# Installing Required Dependencies\n",
    "import sys\n",
    "sys.version\n",
    "!{sys.executable} -m pip install gitpython\n",
    "!{sys.executable} -m pip install pyvis"
   ]
  },
  {
   "cell_type": "code",
   "execution_count": 235,
   "metadata": {
    "ExecuteTime": {
     "end_time": "2024-05-09T18:56:34.149009Z",
     "start_time": "2024-05-09T18:56:34.089786Z"
    }
   },
   "outputs": [
    {
     "name": "stdout",
     "output_type": "stream",
     "text": [
      "/Users/andreaskongstad/Developer/PycharmProjects/architectural-reconstruction/data/zeeguu-api\n"
     ]
    }
   ],
   "source": [
    "# Adopted from: https://colab.research.google.com/drive/1oe_TV7936Zmmzbbgq8rzqFpxYPX7SQHP#scrollTo=Njkjj4fzUV2E\n",
    "import os\n",
    "from git import Repo\n",
    "\n",
    "# Current Working Directory\n",
    "cwd = os.getcwd()\n",
    "print(cwd)\n",
    "\n",
    "# Code location\n",
    "CODE_ROOT_FOLDER=f\"/Users/andreaskongstad/Developer/PycharmProjects/architectural-reconstruction/data/zeeguu-api/\"\n",
    "\n",
    "# Clone the repository\n",
    "if not os.path.exists(CODE_ROOT_FOLDER):\n",
    "  Repo.clone_from(\"https://github.com/zeeguu/api\", CODE_ROOT_FOLDER)\n",
    "\n"
   ]
  },
  {
   "cell_type": "code",
   "execution_count": 236,
   "metadata": {
    "ExecuteTime": {
     "end_time": "2024-05-09T18:56:35.807608Z",
     "start_time": "2024-05-09T18:56:35.510709Z"
    }
   },
   "outputs": [
    {
     "name": "stdout",
     "output_type": "stream",
     "text": [
      "87779.97s - pydevd: Sending message related to process being replaced timed-out after 5 seconds\n",
      "   21206 total\n",
      "87785.64s - pydevd: Sending message related to process being replaced timed-out after 5 seconds\n",
      "     278\n"
     ]
    }
   ],
   "source": [
    "# Count absolute lines of code and number of files \n",
    "!cd {CODE_ROOT_FOLDER} && git ls-files | grep '\\.py$' | xargs wc -l | grep total\n",
    "!cd {CODE_ROOT_FOLDER} && git ls-files | grep \"\\.py$\" | wc -l"
   ]
  },
  {
   "cell_type": "code",
   "execution_count": 237,
   "metadata": {
    "ExecuteTime": {
     "end_time": "2024-05-09T18:56:58.111762Z",
     "start_time": "2024-05-09T18:56:58.106665Z"
    }
   },
   "outputs": [
    {
     "name": "stdout",
     "output_type": "stream",
     "text": [
      "/Users/andreaskongstad/Developer/PycharmProjects/architectural-reconstruction/data/zeeguu-api/zeeguu/core/model/user.py\n"
     ]
    }
   ],
   "source": [
    "# helpers\n",
    "def file_path(file_name):\n",
    "    return f\"{CODE_ROOT_FOLDER}{file_name}\"\n",
    "\n",
    "\n",
    "def module_name_from_file_path(full_path):\n",
    "    \"\"\"\n",
    "    ../core/model/user.py -> zeeguu.core.model.user\n",
    "    \"\"\"\n",
    "    file_name = full_path[len(CODE_ROOT_FOLDER):]\n",
    "    file_name = file_name.replace(\"/__init__.py\",\"\")\n",
    "    file_name = file_name.replace(\"/\",\".\")\n",
    "    file_name = file_name.replace(\".py\",\"\")\n",
    "    return file_name\n",
    "\n",
    "File_Name = \"zeeguu/core/model/user.py\"\n",
    "print(file_path(File_Name))\n",
    "assert file_path(File_Name) == \"/Users/andreaskongstad/Developer/PycharmProjects/architectural-reconstruction/data/zeeguu-api/zeeguu/core/model/user.py\"\n",
    "assert module_name_from_file_path(file_path(File_Name)) == \"zeeguu.core.model.user\"\n",
    "\n",
    "\n",
    "def module_name_from_rel_path(full_path):\n",
    "\n",
    "    # e.g. ../core/model/user.py -> zeeguu.core.model.user\n",
    "\n",
    "    file_name = full_path.replace(\"/__init__.py\",\"\")\n",
    "    file_name = file_name.replace(\"/\",\".\")\n",
    "    file_name = file_name.replace(\".py\",\"\")\n",
    "    return file_name\n",
    "\n",
    "assert (\"tools.migrations.teacher_dashboard_migration_1.upgrade\" == module_name_from_rel_path(\"tools/migrations/teacher_dashboard_migration_1/upgrade.py\"))\n",
    "assert (\"zeeguu.api\") == module_name_from_rel_path(\"zeeguu/api/__init__.py\")\n",
    "\n",
    "\n",
    "  "
   ]
  },
  {
   "cell_type": "markdown",
   "metadata": {},
   "source": [
    "### AST based parsing"
   ]
  },
  {
   "cell_type": "code",
   "execution_count": 238,
   "metadata": {
    "ExecuteTime": {
     "end_time": "2024-05-09T18:57:03.415900Z",
     "start_time": "2024-05-09T18:57:03.413172Z"
    }
   },
   "outputs": [],
   "source": [
    "# Import class\n",
    "from collections import defaultdict\n",
    "\n",
    "class Import:\n",
    "    def __init__(self, module:str, total_calls:int=0):\n",
    "        self.module = module\n",
    "        self.function_calls = defaultdict(int)\n",
    "        self.distinct_calls = set()\n",
    "        self.total_calls = total_calls\n",
    "\n",
    "    def __str__(self):\n",
    "        return (f\"Import: module {self.module}\\n\"\n",
    "                f\"Function calls {[f'{k} : {v}' for k,v in self.function_calls.items()]}\\n\"\n",
    "                f\"Distinct calls {self.distinct_calls}\\n\"\n",
    "                f\"Total calls: {self.total_calls}\\n\")\n",
    "\n"
   ]
  },
  {
   "cell_type": "code",
   "execution_count": 239,
   "metadata": {
    "ExecuteTime": {
     "end_time": "2024-05-09T21:40:03.781184Z",
     "start_time": "2024-05-09T21:40:03.739012Z"
    }
   },
   "outputs": [
    {
     "name": "stdout",
     "output_type": "stream",
     "text": [
      "Import: module zeeguu.core.model\n",
      "Function calls ['zeeguu.core.model.db.Column : 4', 'zeeguu.core.model.db.String : 2']\n",
      "Distinct calls {'zeeguu.core.model.db.Column', 'zeeguu.core.model.db.String'}\n",
      "Total calls: 6\n",
      "\n"
     ]
    }
   ],
   "source": [
    "import ast\n",
    "from collections import defaultdict\n",
    "from typing import assert_type\n",
    "\n",
    "\n",
    "def parse_imports(file):\n",
    "    with open(file) as f:\n",
    "        tree = ast.parse(f.read(), filename=file)\n",
    "    \n",
    "    imports = set() # all imported modules\n",
    "    imports_v : defaultdict[str, Import] = defaultdict(lambda : Import(\"None\") )\n",
    "    function_to_module = {} # alias to module mapping\n",
    "    function_to_module_function = {} # alias to module mapping\n",
    "    \n",
    "    try:\n",
    "        for node in ast.walk(tree):\n",
    "            match node:\n",
    "                case ast.Import(names=names ):\n",
    "                    for alias in names:\n",
    "                        imports.add(alias.name)\n",
    "                        imports_v[alias.name] = Import(alias.name)\n",
    "                \n",
    "                case ast.ImportFrom(module=module, names=names, level=level):\n",
    "                    # What if module == .?\n",
    "                    #print(f\"Import from: {module} {names}\")\n",
    "                    if module == \"word_scheduling.basicSR.basicSR\":\n",
    "                        print(f\"Found: {module} {level} {module_name_from_file_path(file)}\")\n",
    "                    if level > 0:\n",
    "                        # from .hello.package import module\n",
    "                        #print(f\"Relative import: {module} {names} {level} {file}\")\n",
    "                        pre_module = module_name_from_file_path(file).split(\".\")\n",
    "                        while level > 1: # ._common_api_parameters\n",
    "                            pre_module.pop()\n",
    "                            level -= 1\n",
    "                        pre_module = \".\".join(pre_module)\n",
    "                        if module == None: # from . import module\n",
    "                            module = pre_module\n",
    "                        else:\n",
    "                            module = pre_module + \".\" + module #zeeguu.api.endpoints.teacher_dashboard._common_api_parameters\n",
    "                        #print(f\"fixed import: {module} {names} {level} {file}\")\n",
    "                        \n",
    "                    imports.add(module)\n",
    "                    imports_v[module] = Import(module) \n",
    "                \n",
    "                    \n",
    "                    for alias in names:\n",
    "                        function_to_module[alias.name] = module\n",
    "                        function_to_module_function[alias.name] = module + \".\" + alias.name\n",
    "                        if \"zeeguu.word_scheduling.basicSR.basicSR\" == module:\n",
    "                           print(f\"Found: {module} {alias.name}\")\n",
    "\n",
    "                # The imported function is assigned to a variable\n",
    "                # case ast.Assign(_):\n",
    "                #     print(f\"Assign: {node}\")\n",
    "                case ast.Assign(targets=[ast.Name(id=id)], value=ast.Call(func=ast.Name (id=name), args=args, keywords=keywords)):\n",
    "                    if name in function_to_module: \n",
    "                        #print(f\"Assign: {id} {name}\")   \n",
    "                        function_to_module[id] = function_to_module[name]\n",
    "                        function_to_module_function[id] = function_to_module_function[name]\n",
    "                    \n",
    "                \n",
    "                case ast.Call(func=ast.Attribute(value=ast.Name(id=id), attr=attr), args=args, keywords=keywords): # logger.log(\"asdasdasd\")\n",
    "                    if id in function_to_module.keys():\n",
    "                        #print(f\"Call: {id} {attr}\")\n",
    "                        imports_v[function_to_module[id]].function_calls[f\"{function_to_module_function[id]}.{attr}\"] += 1\n",
    "                        imports_v[function_to_module[id]].total_calls += 1\n",
    "                        imports_v[function_to_module[id]].distinct_calls.add(f\"{function_to_module_function[id]}.{attr}\")\n",
    "                    \n",
    "                case ast.Call(func=ast.Name(id=id), args=args, keywords=keywords): # log(\"asdasdsd\")\n",
    "                    \n",
    "                    if id in function_to_module.keys():\n",
    "                        #print(f\"Call: {id}\"\n",
    "                        imports_v[function_to_module[id]].function_calls[f\"{function_to_module_function[id]}\"] += 1\n",
    "                        imports_v[function_to_module[id]].total_calls += 1\n",
    "                        imports_v[function_to_module[id]].distinct_calls.add(f\"{function_to_module_function[id]}\")\n",
    "                case ast.Call(func=call_value):\n",
    "                    attr_stack = []\n",
    "                    \n",
    "                    while isinstance(call_value, ast.Attribute):\n",
    "                        attr_stack.append(call_value.attr)\n",
    "                        call_value = call_value.value\n",
    "                        \n",
    "                    match call_value:\n",
    "                        case ast.Name(id=id):\n",
    "                            attr_stack.append(call_value.id)\n",
    "                        case ast.Constant(value=value):\n",
    "                            attr_stack.append(call_value.value)\n",
    "                        case _ :\n",
    "                            # Out of scope for now\n",
    "                            continue\n",
    "                    \n",
    "                    call = \".\".join(reversed(attr_stack))\n",
    "                    function_to_module[f\"{call}\"] = call.split(\".\")[0]\n",
    "                    if call.split(\".\")[0] in imports_v.keys() or call in function_to_module.keys():\n",
    "                        #print(f\"Call: {call}\")   \n",
    "                        imports_v[call.split(\".\")[0]].function_calls[f\"{call}\"] += 1\n",
    "                        imports_v[call.split(\".\")[0]].total_calls += 1\n",
    "                        imports_v[call.split(\".\")[0]].distinct_calls.add(f\"{call}\")\n",
    "                \n",
    "    except Exception as e:\n",
    "        print(f\"Error in {file}: {e}\")\n",
    "        print(f\"Module: {module}\")\n",
    "        print(f\"Alias: {alias.name}\")\n",
    "                    \n",
    "\n",
    "    return imports, imports_v\n",
    "#print(parse_imports(file_path(\"zeeguu/api/endpoints/teacher_dashboard/student.py\"))[0])\n",
    "#print(parse_imports(file_path(\"zeeguu/api/endpoints/teacher_dashboard/student.py\"))[1][\"zeeguu.api.utils\"])\n",
    "#print(parse_imports(file_path(\"zeeguu/api/endpoints/teacher_dashboard/student.py\"))[1][\"zeeguu.api.endpoints.teacher_dashboard.student\"])\n",
    "#print(parse_imports(file_path(\"zeeguu/cl/__init__.py\"))[0])\n",
    "#print(parse_imports(file_path(\"zeeguu/core/content_recommender/elastic_recommender.py\"))[0])\n",
    "#print(parse_imports(file_path(\"zeeguu/core/emailer/zeeguu_mailer.py\"))[0])\n",
    "#print(parse_imports(file_path(\"zeeguu/core/emailer/zeeguu_mailer.py\"))[1][\"zeeguu\"])\n",
    "#print(parse_imports(file_path(\"zeeguu/api/utils/translator.py\"))[1][\"zeeguu.logging\"])\n",
    "assert parse_imports(file_path('zeeguu/core/model/unique_code.py'))[0] == {'datetime', 'zeeguu.core', 'zeeguu.core.model', 'sqlalchemy', 'random'}\n",
    "\n",
    "imports = parse_imports(file_path('zeeguu/core/model/unique_code.py'))\n",
    "#print(f\"Imports: {imports[0]}\")\n",
    "#print(f\"Import_v: {imports[1]}\")\n",
    "print(f\"{imports[1]['zeeguu.core.model']}\")\n"
   ]
  },
  {
   "cell_type": "markdown",
   "metadata": {},
   "source": [
    "### Extract dependencies and visalize\n",
    "To do that we iterate over all the python files with the help of the Path.rglob function from pathlib\n",
    "And we create a network with the help of the networkx package.Visualize"
   ]
  },
  {
   "cell_type": "code",
   "execution_count": 240,
   "metadata": {
    "ExecuteTime": {
     "end_time": "2024-05-09T21:33:25.669527Z",
     "start_time": "2024-05-09T21:33:25.663160Z"
    }
   },
   "outputs": [],
   "source": [
    "import pyvis.network as Network\n",
    "import matplotlib.pyplot as plt\n",
    "from pathlib import Path\n",
    "import networkx as nx\n",
    "\n",
    "# a function to draw a graph\n",
    "def draw_graph_plt(G, size, **args):\n",
    "    plt.figure(figsize=size)\n",
    "    nx.draw(G, **args)\n",
    "    plt.show()\n",
    "    \n",
    "    \n"
   ]
  },
  {
   "cell_type": "markdown",
   "metadata": {},
   "source": [
    "## Abstraction\n",
    "What do we have now:\n",
    "- System: zeeguu/api\n",
    "- Source View: Modules & Dependencies\n",
    "- Entities: .py files in the project\n",
    "- Relationships: import statements between .py files\n",
    "\n",
    "Plan: Abstraction methods\n",
    "1. Folder hierarchy\n",
    "2. Aggregate dependencies using metrics. (Sum of calls)\n",
    "    - Total count of explicit low-level dependencies\n",
    "    - Number of distinct explicit low-level dependencies\n",
    "    - Network analysis to detect rank packages: Note (It should not be that hard, the networkx package supports various methods of network analysis, e.g. centrality, HITS, pagerank.)\n",
    "3. Create different level graphs and pass them to OpenAI vision model"
   ]
  },
  {
   "cell_type": "markdown",
   "metadata": {},
   "source": [
    "### Filter relevant modules"
   ]
  },
  {
   "cell_type": "code",
   "execution_count": 256,
   "metadata": {
    "ExecuteTime": {
     "end_time": "2024-05-09T21:33:30.087959Z",
     "start_time": "2024-05-09T21:33:29.905769Z"
    }
   },
   "outputs": [],
   "source": [
    "\n",
    "def relevant_module(module_name, top_level_package=\"all\"):\n",
    "    \"\"\"\n",
    "    Define relevant modules\n",
    "    \"\"\"\n",
    "    if \"test\" in module_name:\n",
    "        return False\n",
    "    if top_level_package == \"all\":\n",
    "        if module_name.startswith(\"zeeguu\"):\n",
    "            return True\n",
    "    else:\n",
    "        if module_name.startswith(top_level_package):\n",
    "            return True\n",
    "    \n",
    "\n",
    "\n",
    "    return False"
   ]
  },
  {
   "cell_type": "code",
   "execution_count": 257,
   "metadata": {
    "ExecuteTime": {
     "end_time": "2024-05-09T21:37:17.781924Z",
     "start_time": "2024-05-09T21:37:17.775937Z"
    }
   },
   "outputs": [],
   "source": [
    "def top_level_package(module_name, depth=1):\n",
    "    \"\"\"Extract parent of module at depth\"\"\"\n",
    "    components = module_name.split(\".\")\n",
    "    return \".\".join(components[:depth])\n",
    "\n",
    "assert (top_level_package(\"zeeguu.core.model.util\") == \"zeeguu\")\n",
    "assert (top_level_package(\"zeeguu.core.model.util\", 2) == \"zeeguu.core\")\n",
    "\n",
    "def merge_imports(import1 : Import, import2 : Import) -> Import:\n",
    "    \"\"\"\n",
    "    Merge two imports into a new import\n",
    "    :param import1: Import to merge into\n",
    "    :param import2: Import to merge from\n",
    "    :return: import 1 with merged values\n",
    "    \"\"\"\n",
    "    merged : Import = Import(import1.module)\n",
    "    merged.total_calls = import1.total_calls + import2.total_calls\n",
    "    merged.distinct_calls = import1.distinct_calls.union(import2.distinct_calls)\n",
    "    merged.function_calls = import1.function_calls.copy()\n",
    "    \n",
    "    for k,v in import2.function_calls.items():\n",
    "        merged.function_calls[k] += v\n",
    "    \n",
    "    return merged\n",
    "    \n",
    "assert merge_imports(Import(\"zeeguu.core\", 10), Import(\"zeeguu.core.model\", 20)).total_calls == 30\n",
    "assert merge_imports(Import(\"zeeguu.core\", 10), Import(\"zeeguu.core.model\", 20)).module == \"zeeguu.core\"\n"
   ]
  },
  {
   "cell_type": "code",
   "execution_count": 264,
   "metadata": {
    "ExecuteTime": {
     "end_time": "2024-05-09T21:37:18.602452Z",
     "start_time": "2024-05-09T21:37:18.384637Z"
    }
   },
   "outputs": [
    {
     "name": "stderr",
     "output_type": "stream",
     "text": [
      "/Users/andreaskongstad/Developer/PycharmProjects/architectural-reconstruction/data/zeeguu-api/zeeguu/core/model/starred_article.py:71: SyntaxWarning: invalid escape sequence '\\ '\n",
      "  \"\"\"\n"
     ]
    },
    {
     "name": "stdout",
     "output_type": "stream",
     "text": [
      "Found: word_scheduling.basicSR.basicSR 2 zeeguu.core.model\n"
     ]
    },
    {
     "name": "stderr",
     "output_type": "stream",
     "text": [
      "/Users/andreaskongstad/Developer/PycharmProjects/architectural-reconstruction/data/zeeguu-api/zeeguu/core/model/article.py:28: SyntaxWarning: invalid escape sequence '\\s'\n",
      "  MULTIPLE_NEWLINES = re.compile(\"\\n\\s*\\n\")\n",
      "/Users/andreaskongstad/Developer/PycharmProjects/architectural-reconstruction/data/zeeguu-api/zeeguu/core/language/strategies/word_rank_difficulty_estimator.py:63: SyntaxWarning: invalid escape sequence '\\d'\n",
      "  words = [w for w in words if re.search(\"\\d\", w) == None]\n"
     ]
    },
    {
     "name": "stdout",
     "output_type": "stream",
     "text": [
      "DiGraph with 220 nodes and 563 edges\n",
      "DiGraph with 6 nodes and 7 edges\n",
      "Import map: dict_keys([])\n",
      "Abstracted map dict_keys(['zeeguu', 'zeeguu.logging'])\n"
     ]
    }
   ],
   "source": [
    "def dependencies_digraph_filtered_v2(code_root_folder, filter_package = \"all\") -> (nx.DiGraph, defaultdict[str, defaultdict[str, Import]]):\n",
    "    files = Path(code_root_folder).rglob(\"*.py\")\n",
    "    import_map : defaultdict[str, defaultdict[str, Import]] =  defaultdict(lambda : defaultdict(lambda: Import(\"None\")))\n",
    "\n",
    "    G = nx.DiGraph()\n",
    "    \n",
    "    for file in files:\n",
    "        file_path = str(file)\n",
    "\n",
    "        source_module = module_name_from_file_path(file_path)\n",
    "        if not relevant_module(source_module, filter_package):\n",
    "            continue\n",
    "        \n",
    "        imports, imports_v = parse_imports(file_path)\n",
    "        \n",
    "        import_map[source_module] = imports_v #\n",
    "        \n",
    "        if source_module not in G.nodes:\n",
    "            G.add_node(source_module)\n",
    "        \n",
    "        for target_module in imports_v.keys():\n",
    "\n",
    "            if relevant_module(target_module, filter_package):\n",
    "                \n",
    "                import_object = imports_v[target_module]\n",
    "                G.add_edge(source_module, target_module, value=import_object.total_calls,\n",
    "                           title=f\"Total calls: {import_object.total_calls}\\n\"\n",
    "                                 f\"Distinct calls: {len(import_object.distinct_calls)}\\n\"\n",
    "                                 f\"Functions: \\n{\"\\n\".join(import_object.distinct_calls)}\")\n",
    "    \n",
    "    \n",
    "    return G, import_map\n",
    "\n",
    "def abstracted_to_top_level(G, import_map, depth=1):\n",
    "    aG = nx.DiGraph()\n",
    "    abstracted_import_map : defaultdict[str, defaultdict[str, Import]] =  defaultdict(lambda : defaultdict(lambda: Import(\"None\")))\n",
    "    \n",
    "    for edge in G.edges():\n",
    "        src = top_level_package(edge[0], depth)\n",
    "        dst = top_level_package(edge[1], depth)\n",
    "    \n",
    "        if src != dst:\n",
    "            \n",
    "            #print(f\"Import {edge[0]} => {edge[1]} ---------------: {src} => {dst}\")\n",
    "            abstracted_import_map[src][dst].module = dst\n",
    "            abstracted_import_map[src][dst] = merge_imports(abstracted_import_map[src][dst], import_map[edge[0]][edge[1]])\n",
    "            count = abstracted_import_map[src][dst].total_calls\n",
    "            relavent_imports = [(k,v) for k,v in abstracted_import_map[src][dst].function_calls.items() if relevant_module(k)]\n",
    "\n",
    "            aG.add_edge(src, dst, value= count, title=f\"Total calls: {count}\\n\"\n",
    "                                     f\"Distinct calls: {len(relavent_imports)}\\n\"\n",
    "                                     f\"Functions: \\n{\"\\n\".join([f'{k} : {v}' for k,v in sorted(relavent_imports, key=lambda x: x[1], reverse=True)])}\")\n",
    "\n",
    "    return aG, abstracted_import_map\n",
    "\n",
    "\n",
    "depth = 2\n",
    "G, import_map = dependencies_digraph_filtered_v2(CODE_ROOT_FOLDER)\n",
    "AG, a_import_map = abstracted_to_top_level(G, import_map, depth)\n",
    "print(G) \n",
    "print(AG)\n",
    "print(f\"Import map: {import_map[\"zeeguu.core\"].keys()}\")\n",
    "print(f\"Abstracted map {a_import_map[\"zeeguu.core\"].keys()}\")\n"
   ]
  },
  {
   "cell_type": "code",
   "execution_count": 290,
   "metadata": {
    "ExecuteTime": {
     "end_time": "2024-05-09T21:37:22.623923Z",
     "start_time": "2024-05-09T21:37:22.418636Z"
    }
   },
   "outputs": [
    {
     "name": "stderr",
     "output_type": "stream",
     "text": [
      "/Users/andreaskongstad/Developer/PycharmProjects/architectural-reconstruction/data/zeeguu-api/zeeguu/core/model/starred_article.py:71: SyntaxWarning: invalid escape sequence '\\ '\n",
      "  \"\"\"\n",
      "/Users/andreaskongstad/Developer/PycharmProjects/architectural-reconstruction/data/zeeguu-api/zeeguu/core/model/article.py:28: SyntaxWarning: invalid escape sequence '\\s'\n",
      "  MULTIPLE_NEWLINES = re.compile(\"\\n\\s*\\n\")\n"
     ]
    },
    {
     "name": "stdout",
     "output_type": "stream",
     "text": [
      "Found: word_scheduling.basicSR.basicSR 2 zeeguu.core.model\n"
     ]
    },
    {
     "name": "stderr",
     "output_type": "stream",
     "text": [
      "/Users/andreaskongstad/Developer/PycharmProjects/architectural-reconstruction/data/zeeguu-api/zeeguu/core/language/strategies/word_rank_difficulty_estimator.py:63: SyntaxWarning: invalid escape sequence '\\d'\n",
      "  words = [w for w in words if re.search(\"\\d\", w) == None]\n"
     ]
    },
    {
     "name": "stdout",
     "output_type": "stream",
     "text": [
      "/Users/andreaskongstad/Developer/PycharmProjects/architectural-reconstruction/public/dict-depth-2-dep-graph.html\n",
      "/Users/andreaskongstad/Developer/PycharmProjects/architectural-reconstruction/public/dict-depth-3-dep-graph.html\n",
      "/Users/andreaskongstad/Developer/PycharmProjects/architectural-reconstruction/public/dict-depth-4-dep-graph.html\n",
      "/Users/andreaskongstad/Developer/PycharmProjects/architectural-reconstruction/public/dict-depth-all-dep-graph.html\n"
     ]
    }
   ],
   "source": [
    "def draw_graph_pyvis_v2(G, size, output_file, **args):\n",
    "    h, w = size\n",
    "    # Adjaency list\n",
    "    neighbors = G.adj\n",
    "    # Add neighbors on hover\n",
    "    for node in G.nodes:\n",
    "        G.nodes[node][\"title\"] = \" Imports:\\n\" + \"\\n\".join(neighbors[node])\n",
    "        G.nodes[node][\"group\"] = top_level_package(node, 2)\n",
    "    \n",
    "    # Scaling the size of the nodes by 5*degree\n",
    "    scale = 3 # Scaling the size of the nodes by 10*degree\n",
    "    degrees = dict(G.degree())\n",
    "    degrees.update((x, scale*y) for x, y in degrees.items())\n",
    "    nx.set_node_attributes(G, degrees, \"size\")\n",
    "\n",
    "\n",
    "        \n",
    "    g = Network.Network(height=h, width=w,notebook=True, cdn_resources='in_line', directed=True,  **args) \n",
    "    g.show_buttons()\n",
    "    g.from_nx(G)\n",
    "    # Set font size\n",
    "    for n in g.nodes:\n",
    "        n[\"font\"]['size'] = 100\n",
    "    g.barnes_hut()\n",
    "    g.show(output_file)\n",
    "\n",
    "SRC_DIR = \"/Users/andreaskongstad/Developer/PycharmProjects/architectural-reconstruction\"\n",
    "DG, import_map = dependencies_digraph_filtered_v2(CODE_ROOT_FOLDER)\n",
    "ADG2, a_import_map = abstracted_to_top_level(DG, import_map, 2)\n",
    "ADG3, a_import_map = abstracted_to_top_level(DG, import_map, 3)\n",
    "ADG4, a_import_map = abstracted_to_top_level(DG, import_map, 4)\n",
    "ADG5, a_import_map = abstracted_to_top_level(DG, import_map, 10)\n",
    "\n",
    "draw_graph_pyvis_v2(ADG2, (\"800px\",\"100%\"), f\"{SRC_DIR}/public/dict-depth-2-dep-graph.html\", bgcolor=\"#222222\", font_color=\"white\")\n",
    "draw_graph_pyvis_v2(ADG3, (\"800px\",\"100%\"), f\"{SRC_DIR}/public/dict-depth-3-dep-graph.html\", bgcolor=\"#222222\", font_color=\"white\")\n",
    "draw_graph_pyvis_v2(ADG4, (\"800px\",\"100%\"), f\"{SRC_DIR}/public/dict-depth-4-dep-graph.html\", bgcolor=\"#222222\", font_color=\"white\")\n",
    "draw_graph_pyvis_v2(ADG5, (\"800px\",\"100%\"), f\"{SRC_DIR}/public/dict-depth-all-dep-graph.html\", bgcolor=\"#222222\", font_color=\"white\")"
   ]
  },
  {
   "cell_type": "markdown",
   "metadata": {},
   "source": [
    "### Page rank abstraction"
   ]
  },
  {
   "cell_type": "code",
   "execution_count": 291,
   "metadata": {},
   "outputs": [
    {
     "name": "stdout",
     "output_type": "stream",
     "text": [
      "/Users/andreaskongstad/Developer/PycharmProjects/architectural-reconstruction/public/pagerank-dict-depth-2-dep-graph.html\n",
      "/Users/andreaskongstad/Developer/PycharmProjects/architectural-reconstruction/public/pagerank-dict-depth-3-dep-graph.html\n",
      "/Users/andreaskongstad/Developer/PycharmProjects/architectural-reconstruction/public/pagerank-dict-depth-4-dep-graph.html\n",
      "/Users/andreaskongstad/Developer/PycharmProjects/architectural-reconstruction/public/pagerank-dict-depth-all-dep-graph.html\n"
     ]
    }
   ],
   "source": [
    "\n",
    "def draw_graph_pyvis_v2_pagerank(G, size, output_file, depth, **args):\n",
    "    h, w = size\n",
    "    # Adjaency list\n",
    "    neighbors = G.adj\n",
    "    # Add neighbors on hover\n",
    "    \n",
    "    # Scale acccording to page rank\n",
    "    # PageRank computes a ranking of the nodes in the graph G based on the structure of the incoming links. \n",
    "    prG = nx.pagerank(G)\n",
    "    scale = 1000 if depth > 2 else 100\n",
    "    prG = {k: v*scale for k,v in prG.items()}\n",
    "    nx.set_node_attributes(G, prG, \"size\")\n",
    "    \n",
    "    \n",
    "\n",
    "    for node in G.nodes:\n",
    "        G.nodes[node][\"title\"] = f\"Pagerank: {prG[node]}\\nImports:\\n{'\\n'.join(neighbors[node])}\"\n",
    "        G.nodes[node][\"group\"] = top_level_package(node, 2)\n",
    "\n",
    "        \n",
    "    g = Network.Network(height=h, width=w,notebook=True, cdn_resources='in_line', directed=True,  **args) \n",
    "    g.show_buttons()\n",
    "    g.from_nx(G)\n",
    "    # Set font size\n",
    "    for n in g.nodes:\n",
    "        n[\"font\"]['size'] = 100\n",
    "    g.barnes_hut()\n",
    "    g.show(output_file)\n",
    "        \n",
    "draw_graph_pyvis_v2_pagerank(ADG2, (\"800px\",\"100%\"), f\"{SRC_DIR}/public/pagerank-dict-depth-2-dep-graph.html\", depth=2, bgcolor=\"#222222\", font_color=\"white\")\n",
    "draw_graph_pyvis_v2_pagerank(ADG3, (\"800px\",\"100%\"), f\"{SRC_DIR}/public/pagerank-dict-depth-3-dep-graph.html\", depth=3, bgcolor=\"#222222\", font_color=\"white\")\n",
    "draw_graph_pyvis_v2_pagerank(ADG4, (\"800px\",\"100%\"), f\"{SRC_DIR}/public/pagerank-dict-depth-4-dep-graph.html\", depth=4, bgcolor=\"#222222\", font_color=\"white\")\n",
    "draw_graph_pyvis_v2_pagerank(ADG5, (\"800px\",\"100%\"), f\"{SRC_DIR}/public/pagerank-dict-depth-all-dep-graph.html\", depth=10, bgcolor=\"#222222\", font_color=\"white\")"
   ]
  },
  {
   "cell_type": "markdown",
   "metadata": {},
   "source": [
    "### Top level package filter"
   ]
  },
  {
   "cell_type": "code",
   "execution_count": 292,
   "metadata": {},
   "outputs": [
    {
     "name": "stderr",
     "output_type": "stream",
     "text": [
      "/Users/andreaskongstad/Developer/PycharmProjects/architectural-reconstruction/data/zeeguu-api/zeeguu/core/model/starred_article.py:71: SyntaxWarning: invalid escape sequence '\\ '\n",
      "  \"\"\"\n",
      "/Users/andreaskongstad/Developer/PycharmProjects/architectural-reconstruction/data/zeeguu-api/zeeguu/core/model/article.py:28: SyntaxWarning: invalid escape sequence '\\s'\n",
      "  MULTIPLE_NEWLINES = re.compile(\"\\n\\s*\\n\")\n"
     ]
    },
    {
     "name": "stdout",
     "output_type": "stream",
     "text": [
      "Found: word_scheduling.basicSR.basicSR 2 zeeguu.core.model\n"
     ]
    },
    {
     "name": "stderr",
     "output_type": "stream",
     "text": [
      "/Users/andreaskongstad/Developer/PycharmProjects/architectural-reconstruction/data/zeeguu-api/zeeguu/core/language/strategies/word_rank_difficulty_estimator.py:63: SyntaxWarning: invalid escape sequence '\\d'\n",
      "  words = [w for w in words if re.search(\"\\d\", w) == None]\n"
     ]
    },
    {
     "name": "stdout",
     "output_type": "stream",
     "text": [
      "/Users/andreaskongstad/Developer/PycharmProjects/architectural-reconstruction/public/core-dict-depth-3-dep-graph.html\n",
      "/Users/andreaskongstad/Developer/PycharmProjects/architectural-reconstruction/public/core-dict-depth-4-dep-graph.html\n",
      "/Users/andreaskongstad/Developer/PycharmProjects/architectural-reconstruction/public/core-dict-depth-all-dep-graph.html\n"
     ]
    }
   ],
   "source": [
    "def draw_graph_pyvis_v2_package_filter(G, size, output_file,depth=3, **args):\n",
    "    h, w = size\n",
    "    \n",
    "    # Add neighbors on hover\n",
    "    prG = nx.pagerank(G)\n",
    "    scale = 1000 if depth > 2 else 100\n",
    "    prG = {k: v*scale for k,v in prG.items()}\n",
    "    nx.set_node_attributes(G, prG, \"size\")\n",
    "    \n",
    "\n",
    "    # Adjaency list\n",
    "    neighbors = G.adj\n",
    "    for node in G.nodes:\n",
    "        G.nodes[node][\"title\"] = f\"Pagerank: {prG[node]}\\nImports:\\n{'\\n'.join(neighbors[node])}\"\n",
    "        G.nodes[node][\"group\"] = top_level_package(node, 3)\n",
    "\n",
    "        \n",
    "    g = Network.Network(height=h, width=w,notebook=True, cdn_resources='in_line', directed=True,  **args) \n",
    "    g.show_buttons()\n",
    "    g.from_nx(G)\n",
    "    # Set font size\n",
    "    for n in g.nodes:\n",
    "        n[\"font\"]['size'] = 100\n",
    "    g.barnes_hut()\n",
    "    g.show(output_file)\n",
    "\n",
    "DG_core, import_map_core = dependencies_digraph_filtered_v2(CODE_ROOT_FOLDER, \"zeeguu.core\")\n",
    "ADG2_core, a_import_map_core = abstracted_to_top_level(DG_core, import_map_core, 2)\n",
    "ADG3_core, a_import_map_core = abstracted_to_top_level(DG_core, import_map_core, 3)\n",
    "ADG4_core, a_import_map_core = abstracted_to_top_level(DG_core, import_map_core, 4)\n",
    "ADG5_core, a_import_map_core = abstracted_to_top_level(DG_core, import_map_core, 10)\n",
    "\n",
    "draw_graph_pyvis_v2_package_filter(ADG3_core, (\"800px\",\"100%\"), f\"{SRC_DIR}/public/core-dict-depth-3-dep-graph.html\", bgcolor=\"#222222\", font_color=\"white\")\n",
    "draw_graph_pyvis_v2_package_filter(ADG4_core, (\"800px\",\"100%\"), f\"{SRC_DIR}/public/core-dict-depth-4-dep-graph.html\", bgcolor=\"#222222\", font_color=\"white\")\n",
    "draw_graph_pyvis_v2_package_filter(ADG5_core, (\"800px\",\"100%\"), f\"{SRC_DIR}/public/core-dict-depth-all-dep-graph.html\", bgcolor=\"#222222\", font_color=\"white\")"
   ]
  },
  {
   "cell_type": "markdown",
   "metadata": {},
   "source": [
    "### AI summary abstraction"
   ]
  },
  {
   "cell_type": "code",
   "execution_count": 280,
   "metadata": {},
   "outputs": [
    {
     "name": "stdout",
     "output_type": "stream",
     "text": [
      "94231.58s - pydevd: Sending message related to process being replaced timed-out after 5 seconds\n",
      "Requirement already satisfied: openai in /opt/homebrew/Caskroom/miniconda/base/lib/python3.12/site-packages (1.28.1)\n",
      "Requirement already satisfied: anyio<5,>=3.5.0 in /opt/homebrew/Caskroom/miniconda/base/lib/python3.12/site-packages (from openai) (4.3.0)\n",
      "Requirement already satisfied: distro<2,>=1.7.0 in /opt/homebrew/Caskroom/miniconda/base/lib/python3.12/site-packages (from openai) (1.8.0)\n",
      "Requirement already satisfied: httpx<1,>=0.23.0 in /opt/homebrew/Caskroom/miniconda/base/lib/python3.12/site-packages (from openai) (0.27.0)\n",
      "Requirement already satisfied: pydantic<3,>=1.9.0 in /opt/homebrew/Caskroom/miniconda/base/lib/python3.12/site-packages (from openai) (2.7.1)\n",
      "Requirement already satisfied: sniffio in /opt/homebrew/Caskroom/miniconda/base/lib/python3.12/site-packages (from openai) (1.3.1)\n",
      "Requirement already satisfied: tqdm>4 in /opt/homebrew/Caskroom/miniconda/base/lib/python3.12/site-packages (from openai) (4.65.0)\n",
      "Requirement already satisfied: typing-extensions<5,>=4.7 in /opt/homebrew/Caskroom/miniconda/base/lib/python3.12/site-packages (from openai) (4.10.0)\n",
      "Requirement already satisfied: idna>=2.8 in /opt/homebrew/Caskroom/miniconda/base/lib/python3.12/site-packages (from anyio<5,>=3.5.0->openai) (3.4)\n",
      "Requirement already satisfied: certifi in /opt/homebrew/Caskroom/miniconda/base/lib/python3.12/site-packages (from httpx<1,>=0.23.0->openai) (2024.2.2)\n",
      "Requirement already satisfied: httpcore==1.* in /opt/homebrew/Caskroom/miniconda/base/lib/python3.12/site-packages (from httpx<1,>=0.23.0->openai) (1.0.4)\n",
      "Requirement already satisfied: h11<0.15,>=0.13 in /opt/homebrew/Caskroom/miniconda/base/lib/python3.12/site-packages (from httpcore==1.*->httpx<1,>=0.23.0->openai) (0.14.0)\n",
      "Requirement already satisfied: annotated-types>=0.4.0 in /opt/homebrew/Caskroom/miniconda/base/lib/python3.12/site-packages (from pydantic<3,>=1.9.0->openai) (0.6.0)\n",
      "Requirement already satisfied: pydantic-core==2.18.2 in /opt/homebrew/Caskroom/miniconda/base/lib/python3.12/site-packages (from pydantic<3,>=1.9.0->openai) (2.18.2)\n",
      "Note: you may need to restart the kernel to use updated packages.\n",
      "94238.32s - pydevd: Sending message related to process being replaced timed-out after 5 seconds\n",
      "Requirement already satisfied: python-dotenv in /opt/homebrew/Caskroom/miniconda/base/lib/python3.12/site-packages (1.0.1)\n",
      "Note: you may need to restart the kernel to use updated packages.\n",
      "94244.97s - pydevd: Sending message related to process being replaced timed-out after 5 seconds\n",
      "Collecting selenium\n",
      "  Downloading selenium-4.20.0-py3-none-any.whl.metadata (6.9 kB)\n",
      "Requirement already satisfied: urllib3<3,>=1.26 in /opt/homebrew/Caskroom/miniconda/base/lib/python3.12/site-packages (from urllib3[socks]<3,>=1.26->selenium) (2.1.0)\n",
      "Collecting trio~=0.17 (from selenium)\n",
      "  Downloading trio-0.25.0-py3-none-any.whl.metadata (8.7 kB)\n",
      "Collecting trio-websocket~=0.9 (from selenium)\n",
      "  Downloading trio_websocket-0.11.1-py3-none-any.whl.metadata (4.7 kB)\n",
      "Requirement already satisfied: certifi>=2021.10.8 in /opt/homebrew/Caskroom/miniconda/base/lib/python3.12/site-packages (from selenium) (2024.2.2)\n",
      "Requirement already satisfied: typing_extensions>=4.9.0 in /opt/homebrew/Caskroom/miniconda/base/lib/python3.12/site-packages (from selenium) (4.10.0)\n",
      "Requirement already satisfied: attrs>=23.2.0 in /opt/homebrew/Caskroom/miniconda/base/lib/python3.12/site-packages (from trio~=0.17->selenium) (23.2.0)\n",
      "Collecting sortedcontainers (from trio~=0.17->selenium)\n",
      "  Downloading sortedcontainers-2.4.0-py2.py3-none-any.whl.metadata (10 kB)\n",
      "Requirement already satisfied: idna in /opt/homebrew/Caskroom/miniconda/base/lib/python3.12/site-packages (from trio~=0.17->selenium) (3.4)\n",
      "Collecting outcome (from trio~=0.17->selenium)\n",
      "  Downloading outcome-1.3.0.post0-py2.py3-none-any.whl.metadata (2.6 kB)\n",
      "Requirement already satisfied: sniffio>=1.3.0 in /opt/homebrew/Caskroom/miniconda/base/lib/python3.12/site-packages (from trio~=0.17->selenium) (1.3.1)\n",
      "Collecting wsproto>=0.14 (from trio-websocket~=0.9->selenium)\n",
      "  Downloading wsproto-1.2.0-py3-none-any.whl.metadata (5.6 kB)\n",
      "Requirement already satisfied: pysocks!=1.5.7,<2.0,>=1.5.6 in /opt/homebrew/Caskroom/miniconda/base/lib/python3.12/site-packages (from urllib3[socks]<3,>=1.26->selenium) (1.7.1)\n",
      "Requirement already satisfied: h11<1,>=0.9.0 in /opt/homebrew/Caskroom/miniconda/base/lib/python3.12/site-packages (from wsproto>=0.14->trio-websocket~=0.9->selenium) (0.14.0)\n",
      "Downloading selenium-4.20.0-py3-none-any.whl (9.5 MB)\n",
      "\u001b[2K   \u001b[90m━━━━━━━━━━━━━━━━━━━━━━━━━━━━━━━━━━━━━━━━\u001b[0m \u001b[32m9.5/9.5 MB\u001b[0m \u001b[31m11.6 MB/s\u001b[0m eta \u001b[36m0:00:00\u001b[0m00:01\u001b[0m00:01\u001b[0m\n",
      "\u001b[?25hDownloading trio-0.25.0-py3-none-any.whl (467 kB)\n",
      "\u001b[2K   \u001b[90m━━━━━━━━━━━━━━━━━━━━━━━━━━━━━━━━━━━━━━━━\u001b[0m \u001b[32m467.2/467.2 kB\u001b[0m \u001b[31m10.3 MB/s\u001b[0m eta \u001b[36m0:00:00\u001b[0ma \u001b[36m0:00:01\u001b[0m\n",
      "\u001b[?25hDownloading trio_websocket-0.11.1-py3-none-any.whl (17 kB)\n",
      "Downloading wsproto-1.2.0-py3-none-any.whl (24 kB)\n",
      "Downloading outcome-1.3.0.post0-py2.py3-none-any.whl (10 kB)\n",
      "Downloading sortedcontainers-2.4.0-py2.py3-none-any.whl (29 kB)\n",
      "Installing collected packages: sortedcontainers, wsproto, outcome, trio, trio-websocket, selenium\n",
      "Successfully installed outcome-1.3.0.post0 selenium-4.20.0 sortedcontainers-2.4.0 trio-0.25.0 trio-websocket-0.11.1 wsproto-1.2.0\n",
      "Note: you may need to restart the kernel to use updated packages.\n"
     ]
    }
   ],
   "source": [
    "%pip install openai\n",
    "%pip install python-dotenv\n",
    "%pip install selenium\n"
   ]
  },
  {
   "cell_type": "code",
   "execution_count": 298,
   "metadata": {},
   "outputs": [],
   "source": [
    "from time import sleep\n",
    "from selenium import webdriver\n",
    "\n",
    "# Create a new instance of the Firefox driver\n",
    "def save_screenshot(file):\n",
    "    driver = webdriver.Chrome()\n",
    "\n",
    "    # Navigate to the webpage\n",
    "    driver.get(f\"file://{SRC_DIR}/{file}\")\n",
    "    driver.set_window_size(1920, 1080)\n",
    "    sleep(5)\n",
    "\n",
    "    # Save screenshot as PNG\n",
    "    driver.save_screenshot(f\"{SRC_DIR}/{file}.png\")\n",
    "\n",
    "\n",
    "    # Quit the browser\n",
    "    driver.quit()\n",
    "\n",
    "save_screenshot(\"public/dict-depth-2-dep-graph.html\")\n",
    "save_screenshot(\"public/dict-depth-3-dep-graph.html\")\n",
    "save_screenshot(\"public/core-dict-depth-3-dep-graph.html\")\n"
   ]
  },
  {
   "cell_type": "code",
   "execution_count": 273,
   "metadata": {},
   "outputs": [
    {
     "name": "stdout",
     "output_type": "stream",
     "text": [
      "/Users/andreaskongstad/Developer/PycharmProjects/architectural-reconstruction\n"
     ]
    }
   ],
   "source": [
    "# Switch to the source directory\n",
    "%cd {SRC_DIR}"
   ]
  },
  {
   "cell_type": "code",
   "execution_count": 304,
   "metadata": {},
   "outputs": [
    {
     "name": "stdout",
     "output_type": "stream",
     "text": [
      "{'id': 'chatcmpl-9Nfs5TX3MjFvxUX6eu2pZwucB3Iqg', 'object': 'chat.completion', 'created': 1715429525, 'model': 'gpt-4-turbo-2024-04-09', 'choices': [{'index': 0, 'message': {'role': 'assistant', 'content': \"Based on the provided dependency graph, we can discern the following key modules and their interactions within the software architecture:\\n\\n- **`zeeguu.core.util` (in Red, Central Hub):**\\n  - Serves as the central node in the graph, indicating a utility module that is heavily relied upon by numerous other modules.\\n  - Connected to a wide range of other modules, signalling its function as a provider of commonly used utilities or functionalities across the system.\\n\\n- **Directly Connected Modules to `zeeguu.core.util`:**\\n  - **`zeeguu.core.model`**: This module likely deals with core data models used throughout the application. Its direct connection to the utility module suggests that these data models utilize general utilities for their operations.\\n  - **`zeeguu.core`**: Represents the fundamental base of the application, directly utilizing utilities.\\n  - **`zeeguu.core.sql`**: This hints at functionalities pertaining to SQL database interactions, relying on utilities that might include connection management or common SQL functions.\\n\\n- **Other Notable Modules:**\\n  - **`zeeguu.core.language`**: Interacts closely with modules regarding constants and utility, indicating its role in language processing or settings within the application.\\n  - **`zeeguu.core.account_management`**, **`zeeguu.core.mailer`**, and **`zeeguu.core.user_statistics`**: These modules are a part of user management and interaction, implying functionalities related to account handling, email processing, and user data analytics.\\n  - **`zeeguu.core.content_retriever`**, **`zeeguu.core.content_cleaning`**, and **`zeeguu.core.content_quality`**: Closely linked modules suggesting a series of steps for handling content within the application, from retrieval and cleaning to quality assessment.\\n\\n- **Hierarchical Interactions Observed:**\\n  - **Peripheral modules:** such as `zeeguu.core.exercises`, `zeeguu.core.word_stats`, and `zeeguu.core.reading_analysis`, suggesting specialized functions that extend the core capabilities.\\n  - These interactions form a flow, generally beginning from core modules like `zeeguu.core.util` and branching out to more specialized modules, indicating a structured dependency that flows from general utilities to specific functionalities.\\n\\nIn summary, `zeeguu.core.util` appears to be a crucial utility component extensively integrated across various functionalities of the system, which supports general operations and serves multiple modules. The software's architecture is organized such that core utilities enable more specific applications, maintaining a coherent and scalable structure.\"}, 'logprobs': None, 'finish_reason': 'stop'}], 'usage': {'prompt_tokens': 1477, 'completion_tokens': 519, 'total_tokens': 1996}, 'system_fingerprint': 'fp_0737e0dfd9'}\n"
     ]
    }
   ],
   "source": [
    "import html\n",
    "from turtle import ht\n",
    "from openai import OpenAI\n",
    "import os\n",
    "from dotenv import load_dotenv\n",
    "import base64\n",
    "import requests\n",
    "\n",
    "load_dotenv()\n",
    "\n",
    "api_key = os.getenv(\"OPENAI_API_KEY\")\n",
    "\n",
    "\n",
    "# Function to encode the image\n",
    "def encode_image(image_path):\n",
    "  with open(image_path, \"rb\") as image_file:\n",
    "    return base64.b64encode(image_file.read()).decode('utf-8')\n",
    "\n",
    "# Define your OpenAI API key.\n",
    "def get_openai_response(image):\n",
    "\n",
    "    headers = {\n",
    "    \"Content-Type\": \"application/json\",\n",
    "    \"Authorization\": f\"Bearer {api_key}\"\n",
    "    }\n",
    "\n",
    "    payload = {\n",
    "    \"model\": \"gpt-4-turbo\",\n",
    "    \"messages\": [\n",
    "        {\n",
    "        \"role\": \"user\",\n",
    "        \"content\": [\n",
    "            {\n",
    "            \"type\": \"text\",\n",
    "            \"text\": \"Provide an analyis of the following dependency graphs, what are the key modules and their interactions? Highlight potential issues and findings. Respond with a bullet point summary\"\n",
    "            },\n",
    "            {\n",
    "            \"type\": \"image_url\",\n",
    "            \"image_url\": {\n",
    "                \"url\": f\"data:image/jpeg;base64, {image}\"\n",
    "            },\n",
    "            }\n",
    "        ]\n",
    "        }\n",
    "    ],\n",
    "    \"max_tokens\": 250\n",
    "    }\n",
    "\n",
    "    response = requests.post(\"https://api.openai.com/v1/chat/completions\", headers=headers, json=payload)\n",
    "\n",
    "    return response.json()\n",
    "\n",
    "\n",
    "\n",
    "\n",
    "img1 = encode_image(\"public/dict-depth-2-dep-graph.html.png\"),\n",
    "img2 = encode_image(\"public/dict-depth-3-dep-graph.html.png\"),\n",
    "img3 = encode_image(\"public/core-dict-depth-4-dep-graph.html.png\")\n",
    "img4 = encode_image(\"public/core-dict-depth-3-dep-graph.html.png\")\n",
    "\n",
    "\n",
    "\n",
    "response = get_openai_response(images)\n",
    "\n",
    "print(response)\n",
    "# Save response to markdown file\n",
    "with open(\"public/ai-abstraction.md\", \"w\") as f:\n",
    "    f.write(response[\"choices\"][0][\"message\"][\"content\"])\n",
    "\n"
   ]
  },
  {
   "cell_type": "markdown",
   "metadata": {},
   "source": [
    "## Evolution\n",
    "Plan:\n",
    "1.  Churn Find hot code -- Most changed/imporant regions\n",
    "\n",
    "2. Extract multiple complementary module views from your case study system\n",
    "3. Ensure that your layouts are readable - limit the number of nodes in a view, use a different layout in networkx, or use a different library than networkx\n",
    "4. Augment each of the previously obtained module views by mapping the above-computed churn metric on the color of a given node"
   ]
  },
  {
   "cell_type": "code",
   "execution_count": 198,
   "metadata": {},
   "outputs": [
    {
     "name": "stdout",
     "output_type": "stream",
     "text": [
      "21065.88s - pydevd: Sending message related to process being replaced timed-out after 5 seconds\n",
      "Requirement already satisfied: pydriller in /opt/homebrew/Caskroom/miniconda/base/lib/python3.12/site-packages (2.6)\n",
      "Requirement already satisfied: gitpython in /opt/homebrew/Caskroom/miniconda/base/lib/python3.12/site-packages (from pydriller) (3.1.43)\n",
      "Requirement already satisfied: pytz in /opt/homebrew/Caskroom/miniconda/base/lib/python3.12/site-packages (from pydriller) (2024.1)\n",
      "Requirement already satisfied: types-pytz in /opt/homebrew/Caskroom/miniconda/base/lib/python3.12/site-packages (from pydriller) (2024.1.0.20240417)\n",
      "Requirement already satisfied: lizard in /opt/homebrew/Caskroom/miniconda/base/lib/python3.12/site-packages (from pydriller) (1.17.10)\n",
      "Requirement already satisfied: gitdb<5,>=4.0.1 in /opt/homebrew/Caskroom/miniconda/base/lib/python3.12/site-packages (from gitpython->pydriller) (4.0.11)\n",
      "Requirement already satisfied: smmap<6,>=3.0.1 in /opt/homebrew/Caskroom/miniconda/base/lib/python3.12/site-packages (from gitdb<5,>=4.0.1->gitpython->pydriller) (5.0.1)\n"
     ]
    }
   ],
   "source": [
    "!{sys.executable} -m pip install pydriller"
   ]
  },
  {
   "cell_type": "code",
   "execution_count": 199,
   "metadata": {},
   "outputs": [],
   "source": [
    "from pydriller import Repository\n",
    "REPO_DIR = 'https://github.com/zeeguu/api'"
   ]
  },
  {
   "cell_type": "code",
   "execution_count": 200,
   "metadata": {},
   "outputs": [
    {
     "name": "stdout",
     "output_type": "stream",
     "text": [
      "/Users/andreaskongstad/Developer/PycharmProjects/architectural-reconstruction/data/zeeguu-api\n"
     ]
    }
   ],
   "source": [
    "# for PyDriller to work we need to change directory to our local clone of the repo\n",
    "%cd {CODE_ROOT_FOLDER}"
   ]
  },
  {
   "cell_type": "code",
   "execution_count": 206,
   "metadata": {},
   "outputs": [
    {
     "name": "stdout",
     "output_type": "stream",
     "text": [
      "<pydriller.domain.commit.Commit object at 0x10b4fc860>\n",
      "Mircea Lungu ModificationType.ADD LICENSE\n",
      " -None\n",
      " -LICENSE\n",
      "Mircea Lungu ModificationType.ADD README.md\n",
      " -None\n",
      " -README.md\n",
      "Mircea Lungu ModificationType.ADD s\n",
      " -None\n",
      " -s\n",
      "Mircea Lungu ModificationType.ADD setup.py\n",
      " -None\n",
      " -setup.py\n",
      "Mircea Lungu ModificationType.ADD zeeguu_api.wsgi\n",
      " -None\n",
      " -zeeguu_api.wsgi\n",
      "Mircea Lungu ModificationType.ADD __init__.py\n",
      " -None\n",
      " -zeeguu_api/__init__.py\n",
      "Mircea Lungu ModificationType.ADD __main__.py\n",
      " -None\n",
      " -zeeguu_api/__main__.py\n",
      "Mircea Lungu ModificationType.ADD __init__.py\n",
      " -None\n",
      " -zeeguu_api/api/__init__.py\n",
      "Mircea Lungu ModificationType.ADD download_content_from_url.py\n",
      " -None\n",
      " -zeeguu_api/api/download_content_from_url.py\n",
      "Mircea Lungu ModificationType.ADD exercises.py\n",
      " -None\n",
      " -zeeguu_api/api/exercises.py\n",
      "Mircea Lungu ModificationType.ADD feeds.py\n",
      " -None\n",
      " -zeeguu_api/api/feeds.py\n",
      "Mircea Lungu ModificationType.ADD sessions.py\n",
      " -None\n",
      " -zeeguu_api/api/sessions.py\n",
      "Mircea Lungu ModificationType.ADD smartwatch.py\n",
      " -None\n",
      " -zeeguu_api/api/smartwatch.py\n",
      "Mircea Lungu ModificationType.ADD system_languages.py\n",
      " -None\n",
      " -zeeguu_api/api/system_languages.py\n",
      "Mircea Lungu ModificationType.ADD text_analysis.py\n",
      " -None\n",
      " -zeeguu_api/api/text_analysis.py\n",
      "Mircea Lungu ModificationType.ADD translate_and_bookmark.py\n",
      " -None\n",
      " -zeeguu_api/api/translate_and_bookmark.py\n",
      "Mircea Lungu ModificationType.ADD upload_user_activity_data.py\n",
      " -None\n",
      " -zeeguu_api/api/upload_user_activity_data.py\n",
      "Mircea Lungu ModificationType.ADD user_data.py\n",
      " -None\n",
      " -zeeguu_api/api/user_data.py\n",
      "Mircea Lungu ModificationType.ADD user_settings.py\n",
      " -None\n",
      " -zeeguu_api/api/user_settings.py\n",
      "Mircea Lungu ModificationType.ADD user_statistics.py\n",
      " -None\n",
      " -zeeguu_api/api/user_statistics.py\n",
      "Mircea Lungu ModificationType.ADD __init__.py\n",
      " -zeeguu_api/api/utils/__init__.py\n",
      " -zeeguu_api/api/utils/__init__.py\n",
      "Mircea Lungu ModificationType.ADD feedparser_extensions.py\n",
      " -None\n",
      " -zeeguu_api/api/utils/feedparser_extensions.py\n",
      "Mircea Lungu ModificationType.ADD json_result.py\n",
      " -None\n",
      " -zeeguu_api/api/utils/json_result.py\n",
      "Mircea Lungu ModificationType.ADD route_wrappers.py\n",
      " -None\n",
      " -zeeguu_api/api/utils/route_wrappers.py\n",
      "Mircea Lungu ModificationType.ADD translation_service.py\n",
      " -None\n",
      " -zeeguu_api/api/utils/translation_service.py\n",
      "Mircea Lungu ModificationType.ADD app.py\n",
      " -None\n",
      " -zeeguu_api/app.py\n",
      "Mircea Lungu ModificationType.ADD default_config.py\n",
      " -None\n",
      " -zeeguu_api/default_config.py\n",
      "Mircea Lungu ModificationType.ADD __init__.py\n",
      " -None\n",
      " -zeeguu_api/tests/__init__.py\n",
      "Mircea Lungu ModificationType.ADD api_test_mixin.py\n",
      " -None\n",
      " -zeeguu_api/tests/api_test_mixin.py\n",
      "Mircea Lungu ModificationType.ADD mini_test.py\n",
      " -None\n",
      " -zeeguu_api/tests/mini_test.py\n",
      "Mircea Lungu ModificationType.ADD performance_tests.py\n",
      " -None\n",
      " -zeeguu_api/tests/performance_tests.py\n",
      "Mircea Lungu ModificationType.ADD test_bookmark.py\n",
      " -None\n",
      " -zeeguu_api/tests/test_bookmark.py\n",
      "Mircea Lungu ModificationType.ADD test_content_retrieval.py\n",
      " -None\n",
      " -zeeguu_api/tests/test_content_retrieval.py\n",
      "Mircea Lungu ModificationType.ADD test_feeds.py\n",
      " -None\n",
      " -zeeguu_api/tests/test_feeds.py\n",
      "Mircea Lungu ModificationType.ADD test_knowledge_estimation.py\n",
      " -None\n",
      " -zeeguu_api/tests/test_knowledge_estimation.py\n",
      "Mircea Lungu ModificationType.ADD test_reading_recommender.py\n",
      " -None\n",
      " -zeeguu_api/tests/test_reading_recommender.py\n",
      "Mircea Lungu ModificationType.ADD test_smartwatch_events.py\n",
      " -None\n",
      " -zeeguu_api/tests/test_smartwatch_events.py\n",
      "Mircea Lungu ModificationType.ADD test_system_settings.py\n",
      " -None\n",
      " -zeeguu_api/tests/test_system_settings.py\n",
      "Mircea Lungu ModificationType.ADD test_translations.py\n",
      " -None\n",
      " -zeeguu_api/tests/test_translations.py\n",
      "Mircea Lungu ModificationType.ADD test_user_data.py\n",
      " -None\n",
      " -zeeguu_api/tests/test_user_data.py\n",
      "Mircea Lungu ModificationType.ADD test_user_stats.py\n",
      " -None\n",
      " -zeeguu_api/tests/test_user_stats.py\n",
      "Mircea Lungu ModificationType.ADD test_words.py\n",
      " -None\n",
      " -zeeguu_api/tests/test_words.py\n",
      "Mircea Lungu ModificationType.ADD testing.cfg\n",
      " -None\n",
      " -zeeguu_api/tests/testing.cfg\n"
     ]
    }
   ],
   "source": [
    "all_commits = list(Repository(REPO_DIR).traverse_commits())\n",
    "\n",
    "def print_out_commit_details(commits):\n",
    "  for commit in commits:\n",
    "      print(commit)\n",
    "      for each in commit.modified_files:\n",
    "          print(f\"{commit.author.name} {each.change_type} {each.filename}\\n -{each.old_path}\\n -{each.new_path}\")\n",
    "\n",
    "print_out_commit_details(all_commits[0:1])"
   ]
  },
  {
   "cell_type": "code",
   "execution_count": 210,
   "metadata": {},
   "outputs": [
    {
     "data": {
      "text/plain": [
       "[(None, 175),\n",
       " ('zeeguu_api/api/dashboard.py', 80),\n",
       " ('zeeguu_api/api/translate_and_bookmark.py', 78),\n",
       " ('zeeguu_api/api/teacher_dashboard.py', 76),\n",
       " ('requirements.txt', 52),\n",
       " ('zeeguu_api/api/feeds.py', 51),\n",
       " ('zeeguu_api/app.py', 51),\n",
       " ('zeeguu/core/emailer/zeeguu_mailer.py', 48),\n",
       " ('zeeguu_api/api/__init__.py', 44),\n",
       " ('zeeguu/core/content_retriever/article_downloader.py', 43),\n",
       " ('README.md', 41),\n",
       " ('zeeguu/core/model/article.py', 41),\n",
       " ('.travis.yml', 34),\n",
       " ('setup.py', 33),\n",
       " ('tools/update_article_content.py', 30),\n",
       " ('zeeguu_api/api/exercises.py', 29),\n",
       " ('zeeguu/core/model/user.py', 29),\n",
       " ('zeeguu/core/emailer/user_activity.py', 28),\n",
       " ('zeeguu_api/api/sessions.py', 27),\n",
       " ('zeeguu/core/model/__init__.py', 27),\n",
       " ('zeeguu_api/user_activity_hooks/article_interaction_hooks.py', 25),\n",
       " ('zeeguu_api.wsgi', 24),\n",
       " ('zeeguu/core/content_recommender/elastic_recommender.py', 24),\n",
       " ('zeeguu/core/model/language.py', 24),\n",
       " ('zeeguu_api/api/user_articles.py', 23),\n",
       " ('zeeguu_api/api/bookmarks_and_words.py', 23),\n",
       " ('zeeguu_api/api/accounts.py', 22),\n",
       " ('default_api.cfg', 21),\n",
       " ('zeeguu_api/api/topics.py', 21),\n",
       " ('zeeguu_api/api/teacher_dashboard/student.py', 21),\n",
       " ('zeeguu/core/word_scheduling/basicSR/basicSR.py', 21),\n",
       " ('zeeguu_api/tests/test_feeds.py', 20),\n",
       " ('tools/feed_retrieval.py', 20),\n",
       " ('zeeguu/api/app.py', 20),\n",
       " ('tests_zeeguu_api/test_dashboard.py', 19),\n",
       " ('zeeguu_api/api/search.py', 19),\n",
       " ('zeeguu_api/api/user_article.py', 18),\n",
       " ('zeeguu/core/model/feed.py', 18),\n",
       " ('zeeguu_api/api/user_languages.py', 17),\n",
       " ('zeeguu/core/model/bookmark.py', 17),\n",
       " ('zeeguu/core/model/user_exercise_session.py', 17),\n",
       " ('tools/add_rssfeed.py', 16)]"
      ]
     },
     "execution_count": 210,
     "metadata": {},
     "output_type": "execute_result"
    }
   ],
   "source": [
    "# sort by number of commits in decreasing order\n",
    "def commit_counts(all_commits):\n",
    "    commit_counts = defaultdict(int)\n",
    "\n",
    "    for commit in all_commits:\n",
    "        try:\n",
    "            for each in commit.modified_files:\n",
    "                commit_counts[each.new_path] += 1\n",
    "        except:\n",
    "            pass\n",
    "    return commit_counts\n",
    "\n",
    "sorted(commit_counts(all_commits).items(), key=lambda x: x[1], reverse=True)[:42]"
   ]
  },
  {
   "cell_type": "code",
   "execution_count": 214,
   "metadata": {},
   "outputs": [
    {
     "name": "stdout",
     "output_type": "stream",
     "text": [
      "something went wrong with: <pydriller.domain.commit.ModifiedFile object at 0x14e753d40>\n",
      "something went wrong with: <pydriller.domain.commit.ModifiedFile object at 0x14e753d40>\n",
      "something went wrong with: <pydriller.domain.commit.ModifiedFile object at 0x14e753d40>\n",
      "something went wrong with: <pydriller.domain.commit.ModifiedFile object at 0x14e753d40>\n",
      "something went wrong with: <pydriller.domain.commit.ModifiedFile object at 0x14e753d40>\n"
     ]
    },
    {
     "data": {
      "text/plain": [
       "[('zeeguu/api/endpoints/translation.py', 95),\n",
       " ('zeeguu/api/app.py', 71),\n",
       " ('zeeguu/api/endpoints/__init__.py', 54),\n",
       " ('zeeguu/core/model/article.py', 51),\n",
       " ('zeeguu/core/emailer/zeeguu_mailer.py', 49),\n",
       " ('zeeguu/api/endpoints/exercises.py', 49),\n",
       " ('requirements.txt', 47),\n",
       " ('zeeguu/core/content_retriever/article_downloader.py', 45),\n",
       " ('README.md', 41),\n",
       " ('zeeguu/core/model/user.py', 34),\n",
       " ('zeeguu/api/endpoints/feature_toggles.py', 34),\n",
       " ('setup.py', 33),\n",
       " ('zeeguu/api/endpoints/user.py', 33),\n",
       " ('zeeguu/api/endpoints/user_articles.py', 31),\n",
       " ('zeeguu/core/model/__init__.py', 30),\n",
       " ('zeeguu/api/endpoints/accounts.py', 30),\n",
       " ('zeeguu/api/endpoints/sessions.py', 30),\n",
       " ('tools/update_article_content.py', 30),\n",
       " ('zeeguu/core/emailer/user_activity.py', 29),\n",
       " ('zeeguu/core/model/bookmark.py', 29),\n",
       " ('zeeguu/api/endpoints/bookmarks_and_words.py', 29),\n",
       " ('zeeguu/api/endpoints/speech.py', 29),\n",
       " ('zeeguu/api/endpoints/topics.py', 27),\n",
       " ('zeeguu/core/content_recommender/elastic_recommender.py', 26),\n",
       " ('zeeguu/core/model/language.py', 26),\n",
       " ('zeeguu/api/endpoints/search.py', 25),\n",
       " ('zeeguu_api.wsgi', 24),\n",
       " ('zeeguu/api/endpoints/teacher_dashboard/student.py', 24),\n",
       " ('zeeguu/api/endpoints/user_article.py', 24),\n",
       " ('zeeguu/api/endpoints/teacher_dashboard/article_management.py', 23),\n",
       " ('default_api.cfg', 22),\n",
       " ('zeeguu/api/endpoints/user_languages.py', 22),\n",
       " ('zeeguu/core/word_scheduling/basicSR/basicSR.py', 21),\n",
       " ('zeeguu/api/endpoints/teacher_dashboard/cohorts.py', 21),\n",
       " ('zeeguu/core/model/feed.py', 20),\n",
       " ('zeeguu/api/endpoints/activity_tracking.py', 20),\n",
       " ('zeeguu/core/elastic/elastic_query_builder.py', 19),\n",
       " ('zeeguu/api/endpoints/article.py', 19),\n",
       " ('tools/feed_retrieval.py', 19),\n",
       " ('zeeguu/core/model/user_exercise_session.py', 18),\n",
       " ('zeeguu/api/utils/translator.py', 17),\n",
       " ('zeeguu/core/content_cleaning/content_cleaner.py', 17)]"
      ]
     },
     "execution_count": 214,
     "metadata": {},
     "output_type": "execute_result"
    }
   ],
   "source": [
    "from collections import defaultdict\n",
    "import comm\n",
    "from pydriller import ModificationType\n",
    "\n",
    "def commit_counts_better(all_commits):\n",
    "    commit_counts = {}\n",
    "\n",
    "    for commit in all_commits:\n",
    "        try:\n",
    "            for modification in commit.modified_files:\n",
    "\n",
    "                new_path = modification.new_path\n",
    "                old_path = modification.old_path\n",
    "\n",
    "                if modification.change_type == ModificationType.RENAME:\n",
    "                    commit_counts[new_path]=commit_counts.get(old_path,0)+1\n",
    "                    commit_counts.pop(old_path)\n",
    "\n",
    "                elif modification.change_type == ModificationType.DELETE:\n",
    "                    commit_counts.pop(old_path, '')\n",
    "\n",
    "                elif modification.change_type == ModificationType.ADD:\n",
    "                    commit_counts[new_path] = 1\n",
    "\n",
    "                else: # modification to existing file\n",
    "                        commit_counts [old_path] += 1\n",
    "        except Exception as e:\n",
    "            print(\"something went wrong with: \" + str(modification))\n",
    "            pass\n",
    "    return commit_counts\n",
    "\n",
    "# sort by number of commits in decreasing order\n",
    "sorted(commit_counts_better(all_commits).items(), key=lambda x: x[1], reverse=True)[:42]\n",
    "# discussion: What is (\"None\", 103) ?"
   ]
  },
  {
   "cell_type": "code",
   "execution_count": 223,
   "metadata": {},
   "outputs": [],
   "source": [
    "from struct import pack\n",
    "\n",
    "\n",
    "def package_activity(commit_counts, depth=2) -> defaultdict[str, int]:\n",
    "    package_activity = defaultdict(int)\n",
    "\n",
    "    for path, count in commit_counts.items():\n",
    "        if \".py\" in str(path):\n",
    "            l2_module = top_level_package(module_name_from_rel_path(path), depth)\n",
    "            package_activity[l2_module] += count\n",
    "\n",
    "    return package_activity\n",
    "\n",
    "#commit_counts = commit_counts_better(all_commits)\n",
    "#package_activities = package_activity(commit_counts, 2)\n",
    "#sorted(package_activity.items(), key=lambda x: x[1], reverse=True)    "
   ]
  },
  {
   "cell_type": "code",
   "execution_count": 230,
   "metadata": {},
   "outputs": [
    {
     "name": "stderr",
     "output_type": "stream",
     "text": [
      "/Users/andreaskongstad/Developer/PycharmProjects/architectural-reconstruction/data/zeeguu-api/zeeguu/core/model/starred_article.py:71: SyntaxWarning: invalid escape sequence '\\ '\n",
      "  \"\"\"\n",
      "/Users/andreaskongstad/Developer/PycharmProjects/architectural-reconstruction/data/zeeguu-api/zeeguu/core/model/article.py:28: SyntaxWarning: invalid escape sequence '\\s'\n",
      "  MULTIPLE_NEWLINES = re.compile(\"\\n\\s*\\n\")\n"
     ]
    },
    {
     "name": "stdout",
     "output_type": "stream",
     "text": [
      "Found: word_scheduling.basicSR.basicSR 2 zeeguu.core.model\n"
     ]
    },
    {
     "name": "stderr",
     "output_type": "stream",
     "text": [
      "/Users/andreaskongstad/Developer/PycharmProjects/architectural-reconstruction/data/zeeguu-api/zeeguu/core/language/strategies/word_rank_difficulty_estimator.py:63: SyntaxWarning: invalid escape sequence '\\d'\n",
      "  words = [w for w in words if re.search(\"\\d\", w) == None]\n"
     ]
    },
    {
     "name": "stdout",
     "output_type": "stream",
     "text": [
      "something went wrong with: <pydriller.domain.commit.ModifiedFile object at 0x30693f2f0>\n",
      "something went wrong with: <pydriller.domain.commit.ModifiedFile object at 0x30693f2f0>\n",
      "something went wrong with: <pydriller.domain.commit.ModifiedFile object at 0x30693f2f0>\n",
      "something went wrong with: <pydriller.domain.commit.ModifiedFile object at 0x30693f2f0>\n",
      "something went wrong with: <pydriller.domain.commit.ModifiedFile object at 0x30693f2f0>\n",
      "/Users/andreaskongstad/Developer/PycharmProjects/architectural-reconstruction/public/churn_dict-depth-2-dep-graph.html\n",
      "/Users/andreaskongstad/Developer/PycharmProjects/architectural-reconstruction/public/churn_dict-depth-3-dep-graph.html\n",
      "/Users/andreaskongstad/Developer/PycharmProjects/architectural-reconstruction/public/churn_dict-depth-4-dep-graph.html\n",
      "/Users/andreaskongstad/Developer/PycharmProjects/architectural-reconstruction/public/churn_dict-depth-5-dep-graph.html\n"
     ]
    }
   ],
   "source": [
    "def draw_graph_pyvis_v3(G, package_activity, size, output_file, **args):\n",
    "    h, w = size\n",
    "    # Adjaency list\n",
    "    neighbors = G.adj\n",
    "    # Add neighbors on hover\n",
    "    for node in G.nodes:\n",
    "        G.nodes[node][\"title\"] = \"Package activity:\"+ str(package_activity[node]) + \"Imports:\\n\" + \"\\n\".join(neighbors[node])\n",
    "        G.nodes[node][\"group\"] = top_level_package(node, 2)\n",
    "    \n",
    "    # Scaling the size of the nodes from package activity\n",
    "    sizes = {node: package_activity[node] for node in G.nodes}\n",
    "    nx.set_node_attributes(G, sizes, \"size\")\n",
    "        \n",
    "    g = Network.Network(height=h, width=w,notebook=True, cdn_resources='in_line', directed=True,  **args) \n",
    "    g.show_buttons()\n",
    "    g.from_nx(G)\n",
    "    # Set font size\n",
    "    for n in g.nodes:\n",
    "        n[\"font\"]['size'] = 75\n",
    "    g.barnes_hut()\n",
    "    g.show(output_file)\n",
    "\n",
    "SRC_DIR = \"/Users/andreaskongstad/Developer/PycharmProjects/architectural-reconstruction\"\n",
    "DG, import_map = dependencies_digraph_filtered_v2(CODE_ROOT_FOLDER)\n",
    "ADG2, a_import_map = abstracted_to_top_level(DG, import_map, 2)\n",
    "ADG3, a_import_map = abstracted_to_top_level(DG, import_map, 3)\n",
    "ADG4, a_import_map = abstracted_to_top_level(DG, import_map, 4)\n",
    "ADG5, a_import_map = abstracted_to_top_level(DG, import_map, 5)\n",
    "\n",
    "commit_counts = commit_counts_better(all_commits)\n",
    "package_activity2 = package_activity(commit_counts, 2)\n",
    "package_activity3 = package_activity(commit_counts, 3)\n",
    "package_activity4 = package_activity(commit_counts, 4)\n",
    "package_activity5 = package_activity(commit_counts, 5)\n",
    "\n",
    "\n",
    "draw_graph_pyvis_v3(ADG2, package_activity2, (\"800px\",\"100%\"), f\"{SRC_DIR}/public/churn_dict-depth-2-dep-graph.html\", bgcolor=\"#222222\", font_color=\"white\")\n",
    "draw_graph_pyvis_v3(ADG3, package_activity3, (\"800px\",\"100%\"), f\"{SRC_DIR}/public/churn_dict-depth-3-dep-graph.html\", bgcolor=\"#222222\", font_color=\"white\")\n",
    "draw_graph_pyvis_v3(ADG4, package_activity4, (\"800px\",\"100%\"), f\"{SRC_DIR}/public/churn_dict-depth-4-dep-graph.html\", bgcolor=\"#222222\", font_color=\"white\")\n",
    "draw_graph_pyvis_v3(ADG5, package_activity5, (\"800px\",\"100%\"), f\"{SRC_DIR}/public/churn_dict-depth-5-dep-graph.html\", bgcolor=\"#222222\", font_color=\"white\")\n",
    "\n",
    "\n",
    "    \n",
    "\n"
   ]
  },
  {
   "cell_type": "markdown",
   "metadata": {},
   "source": [
    "## Dynamic Analysis ()\n",
    "Not as relavent for project."
   ]
  },
  {
   "cell_type": "code",
   "execution_count": null,
   "metadata": {},
   "outputs": [],
   "source": [
    "import inspect\n",
    "\n",
    "def methods_in_class(cls):\n",
    "    \"\"\" Returns all the methods in a class \"\"\"\n",
    "    return [\n",
    "\t\t(name, object) \n",
    "\t\tfor (name, object) \n",
    "\t\t\tin cls.__dict__.items() \n",
    "\t\tif hasattr(object, '__call__')]\n",
    "    \n",
    "def log_decorator( function ):\n",
    "    \"\"\" A decorator that logs the function on call \"\"\"\n",
    "    def decorated( *args, **kwargs ):\n",
    "        print (f'I have been called: {function}')\n",
    "        return function( *args,**kwargs )\n",
    "    return decorated\n",
    "\n",
    "def decorate_methods( cls, decorator ):\n",
    "    \"\"\" Decorates all the methods in a class with a log_decorator\"\"\"\n",
    "    methods = methods_in_class(cls)\n",
    "    for name, method in methods:\n",
    "\t    setattr( cls, name, decorator ( method ))\n",
    "    return cls\n",
    "\n",
    "\n",
    "def caller(): \n",
    "\tcallee()\n",
    "\n",
    "def callee():\n",
    "    \"\"\" Prints the name of the calling function\"\"\"\n",
    "    print(inspect.stack()[1].function)\n",
    "\n",
    "caller()\n",
    "\n"
   ]
  },
  {
   "cell_type": "code",
   "execution_count": null,
   "metadata": {},
   "outputs": [],
   "source": [
    "# Decoreate the user class:\n",
    "from zeeguu.core.model import User\n",
    "decorate_methods(User, log_decorator)\n",
    "\n",
    "u= User.find_by_id(534)\n",
    "u.bookmark_count()\n",
    "\n",
    "# to see even further one can instrument also third party libraries!\n",
    "from sqlalchemy.orm.query import Query\n",
    "decorate_methods(Query, log_decorator)\n"
   ]
  }
 ],
 "metadata": {
  "kernelspec": {
   "display_name": "Python 3 (ipykernel)",
   "language": "python",
   "name": "python3"
  },
  "language_info": {
   "codemirror_mode": {
    "name": "ipython",
    "version": 3
   },
   "file_extension": ".py",
   "mimetype": "text/x-python",
   "name": "python",
   "nbconvert_exporter": "python",
   "pygments_lexer": "ipython3",
   "version": "3.12.2"
  }
 },
 "nbformat": 4,
 "nbformat_minor": 4
}
